{
 "cells": [
  {
   "cell_type": "markdown",
   "id": "a701c857",
   "metadata": {},
   "source": [
    "# Matplotlib Tutorial: Python Plotting\n",
    "\n",
    "This Matplotlib tutorial takes you through the basics Python data visualization: the anatomy of a plot, pyplot and pylab, and much more\n",
    "Humans are very visual creatures: we understand things better when we see things visualized. However, the step to presenting analyses, results or insights can be a bottleneck: you might not even know where to start or you might have already a right format in mind, but then questions like “Is this the right way to visualize the insights that I want to bring to my audience?” will have definitely come across your mind.\n",
    "\n",
    "When you’re working with the Python plotting library Matplotlib, the first step to answering the above questions is by building up knowledge on topics like:\n",
    "\n",
    "- The anatomy of a Matplotlib plot: what is a subplot? What are the Axes? What exactly is a figure?\n",
    "- Plot creation, which could raise questions about what module you exactly need to import (pylab or pyplot?), how you exactly should go about initializing the figure and the Axes of your plot, how to use matplotlib in Jupyter notebooks, etc.\n",
    "- Plotting routines, from simple ways to plot your data to more advanced ways of visualizing your data.\n",
    "- Basic plot customizations, with a focus on plot legends and text, titles, axes labels and plot layout.\n",
    "- Saving, showing, clearing, … your plots: show the plot, save one or more figures to, for example, pdf files, clear the axes, clear the figure or close the plot, etc.\n",
    "- Lastly, you’ll briefly cover two ways in which you can customize Matplotlib: with style sheets and the rc settings.\n",
    "\n",
    "(To practice matplotlib interactively, try the free Matplotlib chapter at the start of this Intermediate Python course or see DataCamp’s Viewing 3D Volumetric Data With Matplotlib tutorial to learn how to work with matplotlib’s event handler API.)\n",
    "\n",
    "## What Does A Matplotlib Python Plot Look Like?\n",
    "\n",
    "At first sight, it will seem that there are quite some components to consider when you start plotting with this Python data visualization library. You’ll probably agree with me that it’s confusing and sometimes even discouraging seeing the amount of code that is necessary for some plots, not knowing where to start yourself and which components you should use.\n",
    "\n",
    "Luckily, this library is very flexible and has a lot of handy, built-in defaults that will help you out tremendously. As such, you don’t need much to get started: you need to make the necessary imports, prepare some data, and you can start plotting with the help of the `plot()` function! When you’re ready, don’t forget to show your plot using the `show()` function.\n",
    "\n",
    "Look at this example to see how easy it really is:"
   ]
  },
  {
   "cell_type": "code",
   "execution_count": 8,
   "id": "15dc1a20",
   "metadata": {},
   "outputs": [
    {
     "data": {
      "image/png": "[encoded data removed]",
      "text/plain": [
       "<Figure size 432x288 with 1 Axes>"
      ]
     },
     "metadata": {
      "needs_background": "light"
     },
     "output_type": "display_data"
    }
   ],
   "source": [
    "import matplotlib.pyplot as plt\n",
    "import numpy as np\n",
    "\n",
    "# Prepare the data\n",
    "x = np.linspace(0, 10, 100)\n",
    "y = np.linspace(0, 100, 100)\n",
    "# Plot the data\n",
    "plt.plot(x, x, label='linear')\n",
    "\n",
    "# Add a legend\n",
    "plt.legend()\n",
    "\n",
    "# Show the plot\n",
    "plt.show()"
   ]
  },
  {
   "cell_type": "markdown",
   "id": "db282f24",
   "metadata": {},
   "source": [
    "*Notes: that you import the pyplot module of the matplotlib library under the alias plt.*\n",
    "\n",
    "What you can’t see on the surface is that you have -maybe unconsciously- made use of the built-in defaults that take care of the creation of the underlying components, such as the Figure and the Axes. You’ll read more about these defaults in the section that deals with the differences between pylab and pyplot.\n",
    "\n",
    "For now, you’ll understand that working with matplotlib will already become a lot easier when you understand how the underlying components are instantiated. Or, in other words, what the anatomy of a matplotlib plot looks like:\n",
    "\n",
    "![graph](https://s3.amazonaws.com/assets.datacamp.com/blog_assets/Matplotlib+Tutorial/content_content_unknown.png)\n",
    "\n",
    "In essence, there are two big components that you need to take into account:\n",
    "\n",
    "- The **Figure** is the overall window or page that everything is drawn on. It’s the top-level component of all the ones that you will consider in the following points. You can create multiple independent Figures. A Figure can have several other things in it, such as a suptitle, which is a centered title to the figure. You’ll also find that you can add a legend and color bar, for example, to your Figure.\n",
    "- To the figure you add **Axes**. The Axes is the area on which the data is plotted with functions such as `plot()` and `scatter()` and that can have ticks, labels, etc. associated with it. This explains why Figures can contain multiple Axes.\n",
    "\n",
    "**Tip**: when you see, for example, `plt.xlim`, you’ll call `ax.set_xlim()` behind the covers. All methods of an Axes object exist as a function in the `pyplot` module and vice versa. Note that mostly, you’ll use the functions of the `pyplot` module because they’re much cleaner, at least for simple plots!\n",
    "\n",
    "You’ll see what “clean” means when you take a look at the following pieces of code. Compare, for example, this piece of code:"
   ]
  },
  {
   "cell_type": "code",
   "execution_count": 2,
   "id": "5bb83516",
   "metadata": {},
   "outputs": [
    {
     "data": {
      "image/png": "[encoded data removed]",
      "text/plain": [
       "<Figure size 432x288 with 1 Axes>"
      ]
     },
     "metadata": {
      "needs_background": "light"
     },
     "output_type": "display_data"
    }
   ],
   "source": [
    "fig = plt.figure()\n",
    "ax = fig.add_subplot(111)\n",
    "ax.plot([1, 2, 3, 4], [10, 20, 25, 30], color='lightblue', linewidth=3)\n",
    "ax.scatter([0.3, 3.8, 1.2, 2.5], [11, 25, 9, 26], color='darkgreen', marker='^')\n",
    "ax.set_xlim(0.5, 4.5)\n",
    "plt.show()"
   ]
  },
  {
   "cell_type": "markdown",
   "id": "bf1c029e",
   "metadata": {},
   "source": [
    "With the piece of code below:"
   ]
  },
  {
   "cell_type": "code",
   "execution_count": 3,
   "id": "add10014",
   "metadata": {},
   "outputs": [
    {
     "data": {
      "image/png": "[encoded data removed]",
      "text/plain": [
       "<Figure size 432x288 with 1 Axes>"
      ]
     },
     "metadata": {
      "needs_background": "light"
     },
     "output_type": "display_data"
    }
   ],
   "source": [
    "plt.plot([1, 2, 3, 4], [10, 20, 25, 30], color='lightblue', linewidth=3)\n",
    "plt.scatter([0.3, 3.8, 1.2, 2.5], [11, 25, 9, 26], color='darkgreen', marker='^')\n",
    "plt.xlim(0.5, 4.5)\n",
    "plt.show()"
   ]
  },
  {
   "cell_type": "markdown",
   "id": "e37b65a4",
   "metadata": {},
   "source": [
    "The second code chunk is definitely cleaner, isn’it it?\n",
    "\n",
    "However, if you have multiple axes, it’s still better to make use of the first code chunk because it’s always better to prefer explicit above implicit code! In such cases, you want to make use of the Axes object `ax`.\n",
    "\n",
    "Next to these two components, there are a couple more that you can keep in mind:\n",
    "\n",
    "Each Axes has an **x-axis** and a **y-axis**, which contain ticks, which have major and minor ticklines and ticklabels. There’s also the axis labels, title, and legend to consider when you want to customize your axes, but also taking into account the axis scales and gridlines might come in handy.\n",
    "Spines are lines that connect the axis tick marks and that designate the boundaries of the data area. In other words, they are the simple black square that you get to see when you don’t plot any data at all but when you have initialized the Axes, like in the picture below:\n",
    "\n",
    "![graph](https://s3.amazonaws.com/assets.datacamp.com/blog_assets/Matplotlib+Tutorial/plot3_matplotlib.png)\n",
    "\n",
    "You see that the right and top spines are set to invisible.\n",
    "\n",
    "Note that you’ll sometimes also read about Artist objects, which are virtually all objects that the package has to offers to users like yourself. Everything drawn using Matplotlib is part of the Artist module. The containers that you will use to plot your data, such as Axis, Axes and Figure, and other graphical objects such as text, patches, etc. are types of Artists.\n",
    "\n",
    "For those who have already got some coding experience, it might be good to check out and study the code examples that you find in the [Matplotlib gallery](https://matplotlib.org/2.0.2/gallery.html).\n",
    "\n",
    "## Matplotlib, pyplot and pylab: how are they related?\n",
    "\n",
    "First off, you’ll already know Matplotlib by now. When you talk about “Matplotlib”, you talk about the whole Python data visualization package. This should not come to you as a big surprise :)\n",
    "\n",
    "Secondly, `pyplot` is a module in the `matplotlib` package. That’s why you often see `matplotlib.pyplot` in code. The module provides an interface that allows you to implicitly and automatically create figures and axes to achieve the desired plot.\n",
    "\n",
    "This is especially handy when you want to quickly plot something without instantiating any Figures or Axes, as you saw in the example in the first section of this tutorial. You see, you haven’t explicitly specified these components, yet you manage to output a plot that you have even customized! The defaults are initialized and any customizations that you do, will be done with the current Figure and Axes in mind.\n",
    "\n",
    "Lastly, `pylab` is another module, but it gets installed alongside the `matplotlib` package. It bulk imports `pyplot` and the `numpy` library and was generally recommended when you were working with arrays, doing mathematics interactively and wanted access to plotting features.\n",
    "\n",
    "You might still see this popping up in older tutorials and examples of `matplotlib`, but its use is no longer recommended, especially not when you’re using the IPython kernel in your Jupyter notebook. You can read more about this here.\n",
    "\n",
    "As a solution, you can best use `%matplotlib` magic in combination with the right backend, such as `inline`, `qt`, etc. Most of the times, you will want to use `inline`, as this will make sure that the plots are embedded inside the notebook. Read more about that in DataCamp’s Definitive Guide to Jupyter Notebook.\n",
    "\n",
    "Note that also when you’re not working in a Jupyter notebook, you’ll still need to choose a different backend, depending on your use case. In other words, if you don’t want to embed plots inside a notebook, but you rather want to embed them into graphical user interfaces, in batch scripts or web application servers, etc., you will need to specify the backend that you want to use. However, this topic is outside the scope of this tutorial; Instead, the tutorial assumes that you will be using Matplotlib to save your images to your local file system.\n",
    "\n",
    "## Data For Matplotlib Plots\n",
    "\n",
    "As you have read in one of the previous sections, Matplotlib is often used to visualize analyses or calcuations. That’s why the first step that you have to take in order to start plotting in Python yourself is to consider revising NumPy, the Python library for scientific computing.\n",
    "\n",
    "Scientific computing might not really seem of much interest, but when you’re doing data science you’ll find yourself working a lot with data that is stored in arrays. You’ll need to perform operations on them, inspect your arrays and manipulate them so that you’re working with the (subset of the) data that is interesting for your analysis and that is in the right format, etc.\n",
    "\n",
    "In short, you’ll find NumPy extremely handy when you’re working with this data visualization library. If you’re interested in taking a NumPy tutorial to start well-prepared, go and take DataCamp’s tutorial and make sure to have your copy of our NumPy cheat sheet close!\n",
    "\n",
    "Of course, arrays are not the only thing that you pass to your plotting functions; There’s also the possibility to, for example, pass Python lists. If you would like to know more about Python lists, consider checking out our Python list tutorial or the free Intro to Python for Data Sciencecourse.\n",
    "\n",
    "## Create Your Plot\n",
    "\n",
    "Alright, you’re off to create your first plot yourself with Python! As you have read in one of the previous sections, the Figure is the first step and the key to unlocking the power of this package. Next, you see that you initialize the axes of the Figure in the code chunk above with `fig.add_axes()`:"
   ]
  },
  {
   "cell_type": "code",
   "execution_count": 4,
   "id": "3ed6c2bb",
   "metadata": {},
   "outputs": [
    {
     "data": {
      "text/plain": [
       "<Axes:>"
      ]
     },
     "execution_count": 4,
     "metadata": {},
     "output_type": "execute_result"
    },
    {
     "data": {
      "image/png": "[encoded data removed]",
      "text/plain": [
       "<Figure size 432x288 with 1 Axes>"
      ]
     },
     "metadata": {
      "needs_background": "light"
     },
     "output_type": "display_data"
    }
   ],
   "source": [
    "# Initialize a Figure \n",
    "fig = plt.figure()\n",
    "\n",
    "# Add Axes to the Figure\n",
    "fig.add_axes([0,0,1,1])"
   ]
  },
  {
   "cell_type": "markdown",
   "id": "177fc056",
   "metadata": {},
   "source": [
    "Easy, isn’t it?\n",
    "\n",
    "## What Is A Subplot?\n",
    "\n",
    "You have seen all components of a plot and you have initialized your first figure and Axes, but to make things a bit more complicated, you’ll sometimes see subplots pop up in code.\n",
    "\n",
    "Now, don’t get discouraged just yet!\n",
    "\n",
    "You use subplots to set up and place your Axes on a regular grid. So that means that in most cases, Axes and subplot are synonymous, they will designate the same thing. When you do call subplot to add Axes to your figure, do so with the `add_subplots()` function. There is, however, a difference between the `add_axes()` and the `add_subplots()` function, but you’ll learn more about this later on in the tutorial.\n",
    "\n",
    "Consider the following example:"
   ]
  },
  {
   "cell_type": "code",
   "execution_count": 5,
   "id": "4795d4aa",
   "metadata": {},
   "outputs": [
    {
     "data": {
      "image/png": "[encoded data removed]",
      "text/plain": [
       "<Figure size 432x288 with 1 Axes>"
      ]
     },
     "metadata": {
      "needs_background": "light"
     },
     "output_type": "display_data"
    }
   ],
   "source": [
    "# Create a Figure\n",
    "fig = plt.figure()\n",
    "\n",
    "# Set up Axes\n",
    "ax = fig.add_subplot(111)\n",
    "\n",
    "# Scatter the data\n",
    "ax.scatter(np.linspace(0, 1, 5), np.linspace(0, 5, 5))\n",
    "\n",
    "# Show the plot\n",
    "plt.show()"
   ]
  },
  {
   "cell_type": "markdown",
   "id": "4ee246b6",
   "metadata": {},
   "source": [
    "You see that the `add_subplot()` function in itsef also poses you with a challenge, because you see `add_subplots(111)` in the above code chunk.\n",
    "\n",
    "What does `111` mean?\n",
    "\n",
    "Well, `111` is equal to `1,1,1`, which means that you actually give three arguments to `add_subplot()`. The three arguments designate the number of rows (1), the number of columns (1) and the plot number (1). So you actually make one subplot.\n",
    "\n",
    "**Note** that you can really go bananas with this function when you are using this function, especially when you’re just starting out with this library and you keep on forgetting for what the three numbers stand.\n",
    "\n",
    "Consider the following commands and try to envision what the plot will look like and how many Axes your Figure will have: `ax = fig.add_subplot(2,2,1)`.\n",
    "\n",
    "Got it?\n",
    "\n",
    "That’s right, your Figure will have four axes in total, arranged in a structure that has two rows and two columns. With the line of code that you have considered, you say that the variable ax is the first of the four axes to which you want to start plotting. The “first” in this case means that it will be the first axes on the left of the 2x2 structure that you have initialized.\n",
    "\n",
    "### What Is The Difference Between add_axes() and add_subplot()?\n",
    "\n",
    "The difference between `fig.add_axes()` and `fig.add_subplot()` doesn’t lie in the result: they both return an Axes object. However, they do differ in the mechanism that is used to add the axes: you pass a list to `add_axes()` which is the lower left point, the width and the height. This means that the axes object is positioned in absolute coordinates.\n",
    "\n",
    "In contrast, the `add_subplot()` function doesn’t provide the option to put the axes at a certain position: it does, however, allow the axes to be situated according to a subplot grid, as you have seen in the section above.\n",
    "\n",
    "In most cases, you’ll use `add_subplot()` to create axes; Only in cases where the positioning matters, you’ll resort to `add_axes()`. Alternatively, you can also use `subplots()` if you want to get one or more subplots at the same time. You’ll see an example of how this works in the next section.\n",
    "\n",
    "### How To Change The Size of Figures\n",
    "\n",
    "Now that you have seen how to initialize a Figure and Axes from scratch, you will also want to know how you can change certain small details that the package sets up for you, such as the figure size.\n",
    "\n",
    "Let’s say you don’t have the luxury to follow along with the defaults and you want to change this. How do you set the size of your figures manually?\n",
    "\n",
    "Like everything with this package, it’s pretty easy, but you need to know first what to change.\n",
    "\n",
    "Add an argument `figsize` to your `plt.figure()` function of the `pyplot` module; You just have to specify a tuple with the width and hight of your figure in inches, just like this `plt.figure(figsize=(3,4))`, for it to work.\n",
    "\n",
    "Note that you can also pass figsize to the the `plt.subplots()` function of the same module; The inner workings are the same as the `figure()` function that you’ve just seen.\n",
    "\n",
    "See an example of how this would work here:"
   ]
  },
  {
   "cell_type": "code",
   "execution_count": 6,
   "id": "b4f77903",
   "metadata": {},
   "outputs": [
    {
     "data": {
      "image/png": "[encoded data removed]",
      "text/plain": [
       "<Figure size 1440x720 with 2 Axes>"
      ]
     },
     "metadata": {
      "needs_background": "light"
     },
     "output_type": "display_data"
    }
   ],
   "source": [
    "# Initialize the plot\n",
    "fig = plt.figure(figsize=(20,10))\n",
    "ax1 = fig.add_subplot(121)\n",
    "ax2 = fig.add_subplot(122)\n",
    "\n",
    "# or replace the three lines of code above by the following line: \n",
    "#fig, (ax1, ax2) = plt.subplots(1,2, figsize=(20,10))\n",
    "\n",
    "# Plot the data\n",
    "ax1.bar([1,2,3],[3,4,5])\n",
    "ax2.barh([0.5,1,2.5],[0,1,2])\n",
    "\n",
    "# Show the plot\n",
    "plt.show()"
   ]
  },
  {
   "cell_type": "markdown",
   "id": "a7d69412",
   "metadata": {},
   "source": [
    "## Working With Pyplot: Plotting Routines\n",
    "\n",
    "Now that all is set for you to start plotting your data, it’s time to take a closer look at some plotting routines. You’ll often come across functions like `plot()` and `scatter()`, which either draw points with lines or markers connecting them, or draw unconnected points, which are scaled or colored.\n",
    "\n",
    "But, as you have already seen in the example of the first section, you shouldn’t forget to pass the data that you want these functions to use!\n",
    "\n",
    "These functions are only the bare basics. You will need some other functions to make sure your plots look awesome:\n",
    "- **ax.bar()**: Vertical rectangles\n",
    "- **ax.barh()**: Horizontal rectangles\n",
    "- **ax.axhline()**: Horizontal line across axes\n",
    "- **ax.vline()**: Vertical line across axes\n",
    "- **ax.fill()**: Filled polygons\n",
    "- **ax.fill_between()**: Fill between y-values and 0\n",
    "- **ax.stackplot()**: Stack plot\n",
    "\n",
    "If you’re curious how you can use these functions to plot your data, consider the following example. Note that the `x` and `y` variables have already been loaded in for you:"
   ]
  },
  {
   "cell_type": "code",
   "execution_count": 9,
   "id": "19cc0390",
   "metadata": {},
   "outputs": [
    {
     "data": {
      "image/png": "[encoded data removed]",
      "text/plain": [
       "<Figure size 432x288 with 3 Axes>"
      ]
     },
     "metadata": {
      "needs_background": "light"
     },
     "output_type": "display_data"
    }
   ],
   "source": [
    "# Initialize the plot\n",
    "fig = plt.figure()\n",
    "ax1 = fig.add_subplot(131)\n",
    "ax2 = fig.add_subplot(132)\n",
    "ax3 = fig.add_subplot(133)\n",
    "\n",
    "# Plot the data\n",
    "ax1.bar([1,2,3],[3,4,5])\n",
    "ax2.barh([0.5,1,2.5],[0,1,2])\n",
    "ax2.axhline(0.45)\n",
    "ax1.axvline(0.65)\n",
    "ax3.scatter(x,y)\n",
    "\n",
    "# Show the plot\n",
    "plt.show()"
   ]
  },
  {
   "cell_type": "markdown",
   "id": "317a49da",
   "metadata": {},
   "source": [
    "Most functions speak for themselves because the names are quite clear. But that doesn’t mean that you need to limit yourself: for example, the `fill_between()` function is perfect for those who want to create area plots, but they can also be used to create a stacked line graph; Just use the plotting function a couple of times to make sure that the areas overlap and give the illusion of being stacked.\n",
    "\n",
    "Note that, of course, simply passing the data is not enough to create great plots. Make sure to manipulate your data in such a way that the visualization makes sense: don’t be afraid to change your array shape, combine arrays, etc.\n",
    "\n",
    "When you move on and you start to work with vector fields or data distributions, you might want to check out the following functions:\n",
    "\n",
    "- **ax.arrow()**: Arrow\n",
    "- **ax.quiver()**: 2D field of arrows\n",
    "- **ax.streamplot()**: 2D vector fields\n",
    "- **ax.hist()**: Histogram\n",
    "- **ax.boxplot()**: Boxplot\n",
    "- **ax.violinplot()**: Violinplot\n",
    "\n",
    "Note of course that you probably won’t use all of the functions listed in these tables; It really depends on your data and your use case. If you’re totally new to data science, you might want to check out the statistical plotting routines first!\n",
    "\n",
    "On the other hand, when you work with 2-D or n-D data, you might also find yourself in need of some more advanced plotting routines, like these ones:\n",
    "\n",
    "- **ax.pcolor()**: Pseudocolor plot\n",
    "- **ax.pcolormesh()**: Pseudocolor plot\n",
    "- **ax.contour()**: Contour plot\n",
    "- **ax.contourf()**: Filled contour plot\n",
    "- **ax.clabel()**: Labeled contour plot\n",
    "\n",
    "**Note** that contour plots are used to explore the potential relationship between three variables. Just like contour plots, also pseudocolor plots can be used for this purpose, since they are surface plot seen from above. Of course, this are not nearly all the functions that you can use to plot your data.\n",
    "\n",
    "If you’re working with images or 2D data, for example, you might also want to check out `imshow()` to show images in your subplots. For a practical example of how to use the `imshow()` function, go to DataCamp’s scikit-learn tutorial.\n",
    "\n",
    "The examples in the tutorial also make clear that this data visualization library is really the cherry on the pie in the data science workflow: you have to be quite well-versed in general Python concepts, such as lists and control flow, which can come especially handy if you want to automate the plotting for a great number of subplots. If you feel like revising these concepts, consider taking the free introduction to Python for data science course.\n",
    "\n",
    "## Customizing Your PyPlot\n",
    "\n",
    "A lot of questions about this package come from the fact that there are a lot of things that you can do to personalize your plots and make sure that they are unique: besides adjusting the colors, you also have the option to change markers, linestyles and linewidths, add text, legend and annotations, and change the limits and layout of your plots.\n",
    "\n",
    "It’s exactly the fact that there is an endless range of possibilities when it comes to these plots that makes it difficult to set out some things that you need to know when you start working on this topic.\n",
    "\n",
    "Great tips that you should keep in the back of your mind are not only the gallery, which contains many real-life examples that are already coded for you and which you can use, but also the documentation, which can tell you more about the arguments that you can pass to certain functions to adjust visual features.\n",
    "\n",
    "Also keep in mind that there are multiple solutions for one problem and that you learn most of this stuff when you’re getting your hands dirty with the package itself and when you run into troubles. You’ll see some of the most common questions and solutions in this section.\n",
    "\n",
    "### Deleting an Axes\n",
    "\n",
    "If you ever want to remove an axes form your plot, you can use `delaxes()` to remove and update the current axes:"
   ]
  },
  {
   "cell_type": "code",
   "execution_count": 10,
   "id": "a142a6fc",
   "metadata": {},
   "outputs": [
    {
     "data": {
      "image/png": "[encoded data removed]",
      "text/plain": [
       "<Figure size 432x288 with 2 Axes>"
      ]
     },
     "metadata": {
      "needs_background": "light"
     },
     "output_type": "display_data"
    }
   ],
   "source": [
    "# Initialize the plot\n",
    "fig = plt.figure()\n",
    "ax1 = fig.add_subplot(131)\n",
    "ax2 = fig.add_subplot(132)\n",
    "ax3 = fig.add_subplot(133)\n",
    "\n",
    "# Plot the data\n",
    "ax1.bar([1,2,3],[3,4,5])\n",
    "ax2.barh([0.5,1,2.5],[0,1,2])\n",
    "ax2.axhline(0.45)\n",
    "ax1.axvline(0.65)\n",
    "ax3.scatter(np.linspace(0, 1, 5), np.linspace(0, 5, 5))\n",
    "\n",
    "# Delete `ax3`\n",
    "fig.delaxes(ax3)\n",
    "\n",
    "# Show the plot\n",
    "plt.show()"
   ]
  },
  {
   "cell_type": "markdown",
   "id": "c034cdf2",
   "metadata": {},
   "source": [
    "**Note** that you can restore a deleted axes by adding fig.add_axes(ax) right after fig.delaxes(ax3).\n",
    "\n",
    "#### How To Put The Legend Out of the Plot\n",
    "\n",
    "There are a number of ways to address this question, but mostly all come back to the arguments that you can provide to `legend()`:\n",
    "\n",
    "- You can specify the `loc` or `location` argument to something like center left or upper right, which ensures that your legend does not fall in the Axes or subplot area.\n",
    "- Alternatively, you can also add the `bbox_to_anchor` argument to your function and pass a tuple with the coordinates in which you want to put the legend. In this case, the box is put in the upper right corner of the plotting area: `ax.legend(bbox_to_anchor=(1.1, 1.05))`.\n",
    "\n",
    "#### How To Set Plot Title And Axes Labels\n",
    "\n",
    "To change your plot title and axes labels, you can follow one of the following approaches, depending of which container of which you want to make use:\n",
    "\n",
    "- The easiest way to set these things right is by using `ax.set(title=\"A title\", xlabel=\"x\", ylabel=\"y\")` or `ax.set_xlim()`, `ax.set_ylim()` or `ax.set_title()`.\n",
    "- If you want to work with the figure, you might also resort to `fig.suptitle()` to add a title to your plot.\n",
    "- If you’re making use of the default settings that the package has to offer, you might want to use `plt.title()`, `plt.xlabel()`, `plt.ylabel()`.\n",
    "- Define your own style sheet or change the default `matplotlibrc` settings. Read more about this here.\n",
    "\n",
    "#### How To Fix The Plot Layout\n",
    "\n",
    "A thing to consider when you’re using subplots to build up your plot is the tight_layout function, which will help you to make sure that the plots fit nicely in your figure. You ideally call it after you have plotted your data and customized your plot; So that’s right before you call `plt.show()` that you should use `plt.tight_layout()`.\n",
    "\n",
    "Additionally, you might also be interested to use `subplots_adjust()`, which allows you to manually set the width and height reserved for blank space between subplots, and also fix the left and right sides, and the top and bottom of the subplots."
   ]
  },
  {
   "cell_type": "markdown",
   "id": "50d76cd9",
   "metadata": {},
   "source": [
    "### Showing, Saving And Closing Your Plot\n",
    "\n",
    "After you have done all the necessary customizations, you will want to show your plot because, as you will have noticed from working in the terminal, you just get to see that an object is made, but you never see the nice plot every time you make adjustments.\n",
    "\n",
    "In the first example of this tutorial, this was implicitly done;\n",
    "\n",
    "Do you remember? It’s this piece of code:"
   ]
  },
  {
   "cell_type": "code",
   "execution_count": 11,
   "id": "e1a5303d",
   "metadata": {},
   "outputs": [
    {
     "data": {
      "image/png": "[encoded data removed]",
      "text/plain": [
       "<Figure size 432x288 with 1 Axes>"
      ]
     },
     "metadata": {
      "needs_background": "light"
     },
     "output_type": "display_data"
    }
   ],
   "source": [
    "# Prepare the data\n",
    "x = np.linspace(0, 10, 100)\n",
    "\n",
    "# Plot the data\n",
    "plt.plot(x, x, label='linear')\n",
    "\n",
    "# Add a legend\n",
    "plt.legend()\n",
    "\n",
    "# Show the plot\n",
    "plt.show()"
   ]
  },
  {
   "cell_type": "markdown",
   "id": "69a204a8",
   "metadata": {},
   "source": [
    "The line `plt.show()` says indeed that you want to see the plot. If you execute this line, you’ll see a window popping up. And you’ll see if it looks like what you had in your mind!\n",
    "\n",
    "But this is where your questions start. How can I save this image and if it’s not to your liking, can you clear the image so that you can start anew? The following short sections will cover these questions.\n",
    "\n",
    "#### How To Save A Plot To An Image File\n",
    "\n",
    "You can easily save a figure to, for example, a png file by making use of `plt.savefig()`. The only argument you need to pass to this function is the file name, just like in this example:"
   ]
  },
  {
   "cell_type": "code",
   "execution_count": 13,
   "id": "f2fa0832",
   "metadata": {},
   "outputs": [
    {
     "data": {
      "text/plain": [
       "<Figure size 432x288 with 0 Axes>"
      ]
     },
     "metadata": {},
     "output_type": "display_data"
    }
   ],
   "source": [
    "# Save Figure\n",
    "plt.savefig(\"foo.png\")\n",
    "\n",
    "# Save Transparent Figure\n",
    "plt.savefig(\"foo_trans.png\", transparent=True)"
   ]
  },
  {
   "cell_type": "markdown",
   "id": "1328ddcc",
   "metadata": {},
   "source": [
    "By just executing this line of code, you’ll save the plot that you have made to an image file instead of displaying it.\n",
    "\n",
    "#### How To Save A Plot To A Pdf File\n",
    "If you want to save multiple plots to a pdf file, you want to make use of the pdf backend, which you can easily import:"
   ]
  },
  {
   "cell_type": "code",
   "execution_count": 16,
   "id": "62053ddc",
   "metadata": {},
   "outputs": [
    {
     "ename": "ValueError",
     "evalue": "No figure None",
     "output_type": "error",
     "traceback": [
      "\u001b[1;31m---------------------------------------------------------------------------\u001b[0m",
      "\u001b[1;31mValueError\u001b[0m                                Traceback (most recent call last)",
      "\u001b[1;32m~\\AppData\\Local\\Temp/ipykernel_10416/1736279059.py\u001b[0m in \u001b[0;36m<module>\u001b[1;34m\u001b[0m\n\u001b[0;32m      6\u001b[0m \u001b[1;33m\u001b[0m\u001b[0m\n\u001b[0;32m      7\u001b[0m \u001b[1;31m# Save the figure to the file\u001b[0m\u001b[1;33m\u001b[0m\u001b[1;33m\u001b[0m\u001b[1;33m\u001b[0m\u001b[0m\n\u001b[1;32m----> 8\u001b[1;33m \u001b[0mpp\u001b[0m\u001b[1;33m.\u001b[0m\u001b[0msavefig\u001b[0m\u001b[1;33m(\u001b[0m\u001b[1;33m)\u001b[0m\u001b[1;33m\u001b[0m\u001b[1;33m\u001b[0m\u001b[0m\n\u001b[0m\u001b[0;32m      9\u001b[0m \u001b[1;33m\u001b[0m\u001b[0m\n\u001b[0;32m     10\u001b[0m \u001b[1;31m# Close the file\u001b[0m\u001b[1;33m\u001b[0m\u001b[1;33m\u001b[0m\u001b[1;33m\u001b[0m\u001b[0m\n",
      "\u001b[1;32mc:\\users\\admin\\appdata\\local\\programs\\python\\python38-32\\lib\\site-packages\\matplotlib\\backends\\backend_pdf.py\u001b[0m in \u001b[0;36msavefig\u001b[1;34m(self, figure, **kwargs)\u001b[0m\n\u001b[0;32m   2730\u001b[0m                 \u001b[0mmanager\u001b[0m \u001b[1;33m=\u001b[0m \u001b[0mGcf\u001b[0m\u001b[1;33m.\u001b[0m\u001b[0mget_fig_manager\u001b[0m\u001b[1;33m(\u001b[0m\u001b[0mfigure\u001b[0m\u001b[1;33m)\u001b[0m\u001b[1;33m\u001b[0m\u001b[1;33m\u001b[0m\u001b[0m\n\u001b[0;32m   2731\u001b[0m             \u001b[1;32mif\u001b[0m \u001b[0mmanager\u001b[0m \u001b[1;32mis\u001b[0m \u001b[1;32mNone\u001b[0m\u001b[1;33m:\u001b[0m\u001b[1;33m\u001b[0m\u001b[1;33m\u001b[0m\u001b[0m\n\u001b[1;32m-> 2732\u001b[1;33m                 \u001b[1;32mraise\u001b[0m \u001b[0mValueError\u001b[0m\u001b[1;33m(\u001b[0m\u001b[1;34m\"No figure {}\"\u001b[0m\u001b[1;33m.\u001b[0m\u001b[0mformat\u001b[0m\u001b[1;33m(\u001b[0m\u001b[0mfigure\u001b[0m\u001b[1;33m)\u001b[0m\u001b[1;33m)\u001b[0m\u001b[1;33m\u001b[0m\u001b[1;33m\u001b[0m\u001b[0m\n\u001b[0m\u001b[0;32m   2733\u001b[0m             \u001b[0mfigure\u001b[0m \u001b[1;33m=\u001b[0m \u001b[0mmanager\u001b[0m\u001b[1;33m.\u001b[0m\u001b[0mcanvas\u001b[0m\u001b[1;33m.\u001b[0m\u001b[0mfigure\u001b[0m\u001b[1;33m\u001b[0m\u001b[1;33m\u001b[0m\u001b[0m\n\u001b[0;32m   2734\u001b[0m         \u001b[1;31m# Force use of pdf backend, as PdfPages is tightly coupled with it.\u001b[0m\u001b[1;33m\u001b[0m\u001b[1;33m\u001b[0m\u001b[1;33m\u001b[0m\u001b[0m\n",
      "\u001b[1;31mValueError\u001b[0m: No figure None"
     ]
    }
   ],
   "source": [
    "# Import PdfPages\n",
    "from matplotlib.backends.backend_pdf import PdfPages\n",
    "\n",
    "# Initialize the pdf file\n",
    "pp = PdfPages('multipage.pdf')\n",
    "\n",
    "# Save the figure to the file\n",
    "pp.savefig()\n",
    "\n",
    "# Close the file\n",
    "pp.close()"
   ]
  },
  {
   "cell_type": "markdown",
   "id": "2a900e7f",
   "metadata": {},
   "source": [
    "### When To Use cla(), clf() or close()?\n",
    "\n",
    "When you’re finally ready with the inspection of your plot, it’s time to move on with something else (maybe with another plot!). When you’re working with this data visualization library for the first time, it might be weird at start because you can, of course, shut down the GUI window that appears, but that’s usually not the way you want to handle things, because it doesn’t always work as well when you’re working on several things at a time.\n",
    "\n",
    "You have to explicitly tell Matplotlib to close down the plot that you’ve been working on so that you can move on. There are three functions that will come in handy once you’re at this point:\n",
    "\n",
    "- Use `plt.cla()` to clear an axis,\n",
    "- `plt.clf()` to clear the entire figure, and\n",
    "- `plt.close()` to close a window that has popped up to show you your plot.\n",
    "\n",
    "### Customizing Matplotlib\n",
    "\n",
    "By now, you’re already familiar with some basic options to customize your plots. But what if the customizations that you want to make situate more on a library level instead of a plot level? In such cases, also, you don’t need to panic: Matplotlib offers you several options to adjust some of the internal workings. This section will just cover two options, namely style sheets and rc settings.\n",
    "\n",
    "If you want to know more, definitely check out this page.\n",
    "\n",
    "#### How To Use A ggplot2 Style\n",
    "\n",
    "For the R enthusiasts among you, Matplotlib also offers you the option to set the style of the plots to `ggplot`. You can easily do this by running the following piece of code:"
   ]
  },
  {
   "cell_type": "code",
   "execution_count": 17,
   "id": "5675b38e",
   "metadata": {},
   "outputs": [],
   "source": [
    "# Import `pyplot` \n",
    "import matplotlib.pyplot as plt\n",
    "\n",
    "# Set the style to `ggplot`\n",
    "plt.style.use(\"ggplot\")"
   ]
  },
  {
   "cell_type": "markdown",
   "id": "6ff028b1",
   "metadata": {},
   "source": [
    "#### rc Settings\n",
    "“rc” is common for configuration files: they usually end in `rc`. It comes from the practice of having configs as executables: they are automatically run and configure settings, for example. You can read more about it here. Matplotlib has such an rc file to which you can make adjustments dynamically and statically.\n",
    "\n",
    "To dynamically change default rc settings, you can use the `rcParams` variable:"
   ]
  },
  {
   "cell_type": "code",
   "execution_count": 18,
   "id": "7f34eeb3",
   "metadata": {},
   "outputs": [
    {
     "data": {
      "image/png": "[encoded data removed]",
      "text/plain": [
       "<Figure size 432x288 with 1 Axes>"
      ]
     },
     "metadata": {},
     "output_type": "display_data"
    }
   ],
   "source": [
    "import matplotlib as mpl\n",
    "import matplotlib.pyplot as plt\n",
    "import numpy as np\n",
    "\n",
    "# Uncomment following line to see the effect \n",
    "#mpl.rcParams['lines.linewidth'] = 5\n",
    "\n",
    "# Prepare the data\n",
    "x = np.linspace(0, 10, 100)\n",
    "\n",
    "# Plot the data\n",
    "plt.plot(x, x, label='linear')\n",
    "\n",
    "# Add a legend\n",
    "plt.legend()\n",
    "\n",
    "# Show the plot\n",
    "plt.show()"
   ]
  },
  {
   "cell_type": "markdown",
   "id": "19b9adff",
   "metadata": {},
   "source": [
    "You just adjusted the line width in the example above, but you can also change figure size and dpi, line width, color and style, axes, axis and grid properties, text and font properties, …\n",
    "\n",
    "If you want to work more statically, you should probably also know that you have a `matplotlibrc` configuration file, which you can use to customize all kinds of properties (just like you did above with the line width parameter). If you want to find this specific file, you can just run the following:"
   ]
  },
  {
   "cell_type": "code",
   "execution_count": 19,
   "id": "c6cc0f2c",
   "metadata": {},
   "outputs": [
    {
     "data": {
      "text/plain": [
       "'c:\\\\users\\\\admin\\\\appdata\\\\local\\\\programs\\\\python\\\\python38-32\\\\lib\\\\site-packages\\\\matplotlib\\\\mpl-data\\\\matplotlibrc'"
      ]
     },
     "execution_count": 19,
     "metadata": {},
     "output_type": "execute_result"
    }
   ],
   "source": [
    "import matplotlib\n",
    "\n",
    "matplotlib.matplotlib_fname()"
   ]
  },
  {
   "cell_type": "code",
   "execution_count": null,
   "id": "a589a54c",
   "metadata": {},
   "outputs": [],
   "source": []
  }
 ],
 "metadata": {
  "kernelspec": {
   "display_name": "Python 3 (ipykernel)",
   "language": "python",
   "name": "python3"
  },
  "language_info": {
   "codemirror_mode": {
    "name": "ipython",
    "version": 3
   },
   "file_extension": ".py",
   "mimetype": "text/x-python",
   "name": "python",
   "nbconvert_exporter": "python",
   "pygments_lexer": "ipython3",
   "version": "3.8.5"
  }
 },
 "nbformat": 4,
 "nbformat_minor": 5
}
