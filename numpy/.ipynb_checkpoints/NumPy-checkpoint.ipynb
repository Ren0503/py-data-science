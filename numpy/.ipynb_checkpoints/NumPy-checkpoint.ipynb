{
 "cells": [
  {
   "cell_type": "markdown",
   "id": "0b26b8ae",
   "metadata": {},
   "source": [
    "# NumPy\n",
    "\n",
    "## What is NumPy?\n",
    "\n",
    "Numpy is an open-source library for working efficiently with arrays. Developed in 2005 by Travis Oliphant, the name stands for Numerical Python. As a critical data science library in Python, many other libraries depend on it.\n",
    "\n",
    "## Why is NumPy so popular?\n",
    "\n",
    "NumPy is extremely popular because it dramatically improves the ease and performance of working with multidimensional arrays.\n",
    "\n",
    "Some of Numpy's advantages:\n",
    "\n",
    "1. Mathematical operations on NumPy’s ndarray objects are up to 50x faster than iterating over native Python lists using loops. The efficiency gains are primarily due to NumPy storing array elements in an ordered single location within memory, eliminating redundancies by having all elements be the same type and making full use of modern CPUs. The efficiency advantages become particularly apparent when operating on arrays with thousands or millions of elements, which are pretty standard within data science.\n",
    "2. It offers an Indexing syntax for easily accessing portions of data within an array.\n",
    "3. It contains built-in functions that improve quality of life when working with arrays and math, such as functions for linear algebra, array transformations, and matrix math.\n",
    "4. It requires fewer lines of code for most mathematical operations than native Python lists.\n",
    "\n",
    "### Best place to get more info\n",
    "\n",
    "The online documentation (https://numpy.org/doc/) is a great place to look for further information on topics introduced in this article. The documentation goes into more detail than this introduction and is continually updated with evolving best practices.\n",
    "\n",
    "## When should you start using NumPy?\n",
    "\n",
    "NumPy would be a good candidate for the first library to explore after gaining basic comfort with the Python environment. After NumPy, the next logical choices for growing your data science and scientific computing capabilities might be SciPy and pandas. In short, learn Python, then NumPy, then SciPy, or pandas.\n",
    "\n",
    "## What's the relationship between NumPy, SciPy, Scikit-learn, and Pandas?\n",
    "\n",
    "- **NumPy** provides a foundation on which other data science packages are built, including SciPy, Scikit-learn, and Pandas.\n",
    "- **SciPy** provides a menu of libraries for scientific computations. It extends NumPy by including integration, interpolation, signal processing, more linear algebra functions, descriptive and inferential statistics, numerical optimizations, and more.\n",
    "- **Scikit-learn** extends NumPy and SciPy with advanced machine-learning algorithms.\n",
    "- **Pandas** extends NumPy by providing functions for exploratory data analysis, statistics, and data visualization. It can be thought of as Python's equivalent to Microsoft Excel spreadsheets for working with and exploring tabular data (tutorial).\n",
    "\n",
    "## An Alternative to MATLAB?\n",
    "\n",
    "Many readers will likely be familiar with the commercial scientific computing software MATLAB. When used together with other Python libraries like Matplotlib, NumPy can be considered as a fully-fledged alternative to MATLAB's core functionality.\n",
    "\n",
    "Python is quite an attractive alternative to MATLAB for the following reasons:\n",
    "\n",
    "- Python is open-source, which means that you have the option of inspecting the source code yourself.\n",
    "- Access the vast and ever-growing possibilities open to Python users.\n",
    "- Unlike MATLAB, Python and Numpy are free. No further explanation is needed!\n",
    "\n",
    "## Installation\n",
    "\n",
    "To check if you already have NumPy installed in your Python installation (it most likely is), run the following command:"
   ]
  },
  {
   "cell_type": "code",
   "execution_count": 1,
   "id": "166d12aa",
   "metadata": {},
   "outputs": [],
   "source": [
    "import numpy as np"
   ]
  },
  {
   "cell_type": "markdown",
   "id": "d025e5bf",
   "metadata": {},
   "source": [
    "If no error message is returned, that's a good sign NumPy is already available. If you get an error message like\n",
    "\n",
    "ModuleNotFoundError: No module named 'numpy'\n",
    "\n",
    "This probably means that NumPy needs to be installed first. If you use the pip Python package manager, the required command is 'pip install numpy'. If you need more detailed installation instructions, refer to https://numpy.org/."
   ]
  },
  {
   "cell_type": "markdown",
   "id": "f1a9e2ff",
   "metadata": {},
   "source": [
    "## List of useful NumPy functions\n",
    "\n",
    "NumPy has numerous useful functions. You can see the full list of functions in the NumPy docs. As an overview, here are some of the most popular and useful ones to give you a sense of what NumPy can do. We will cover many of them in this tutorial.\n",
    "\n",
    "- **Array Creation**: arange, array, copy, empty, empty_like, eye, fromfile, fromfunction, identity, linspace, logspace, mgrid, ogrid, ones, ones_like, r_, zeros, zeros_like\n",
    "- **Conversions**: ndarray.astype, atleast_1d, atleast_2d, atleast_3d, mat\n",
    "- **Manipulations**: array_split, column_stack, concatenate, diagonal, dsplit, dstack, hsplit, hstack, ndarray.item, newaxis, ravel, repeat, reshape, resize, squeeze, swapaxes, take, transpose, vsplit, vstack\n",
    "- **Questions**: all, any, nonzero, where\n",
    "- **Ordering**: argmax, argmin, argsort, max, min, ptp, searchsorted, sort\n",
    "- **Operations**: choose, compress, cumprod, cumsum, inner, ndarray.fill, imag, prod, put, putmask, real, sum\n",
    "- **Basic Statistics**: cov, mean, std, var\n",
    "- **Basic Linear Algebra**: cross, dot, outer, linalg.svd, vdot\n",
    "\n",
    "# Section 1: The basics\n",
    "\n",
    "## NumPy arrays\n",
    "\n",
    "The NumPy array - an n-dimensional data structure - is the central object of the NumPy package.\n",
    "\n",
    "A one-dimensional NumPy array can be thought of as a vector, a two-dimensional array as a matrix (i.e., a set of vectors), and a three-dimensional array as a tensor (i.e., a set of matrices)."
   ]
  },
  {
   "cell_type": "markdown",
   "id": "5b617f80",
   "metadata": {},
   "source": [
    "![image](https://storage.googleapis.com/lds-media/images/numpy-vector-matrix-3d-matrix.width-1200.jpg)\n",
    "\n",
    "Need more than three dimensions? It's entirely possible to have arrays with many dimensions, including so many dimensions that it's no longer humanly possible to conceptualize them.\n",
    "\n",
    "### Array data types\n",
    "\n",
    "An array can consist of integers, floating-point numbers, or strings. Within an array, the data type must be consistent (e.g., all integers or all floats).\n",
    "\n",
    "Need an array with mixed data types? Consider using Numpy's record array format or pandas dataframes instead (see the Pandas tutorial).\n",
    "\n",
    "In this article, we'll restrict our focus to conventional NumPy arrays consisting of a single data type.\n",
    "\n",
    "### Defining arrays\n",
    "\n",
    "We can define NumPy arrays in a number of ways. We'll detail a few of the most common approaches below.\n",
    "\n",
    "### Using np.array()\n",
    "\n",
    "To define an array manually, we can use the `np.array()` function. Below, we pass a list of two elements, each of which is a list containing two values. The result is a 2x2 matrix:"
   ]
  },
  {
   "cell_type": "code",
   "execution_count": 2,
   "id": "dd085629",
   "metadata": {},
   "outputs": [
    {
     "data": {
      "text/plain": [
       "array([[1, 2],\n",
       "       [3, 4]])"
      ]
     },
     "execution_count": 2,
     "metadata": {},
     "output_type": "execute_result"
    }
   ],
   "source": [
    "np.array([[1,2],[3,4]])"
   ]
  },
  {
   "cell_type": "markdown",
   "id": "095a4cb0",
   "metadata": {},
   "source": [
    "It's as simple as that! Once we have our data in a NumPy array, a vast suite of computing possibilities becomes available. Much of this article is concerned with exploring these possibilities.\n",
    "\n",
    "NumPy has numerous functions for generating commonly-used arrays without having to enter the elements manually. A few of those are shown below:\n",
    "\n",
    "### Defining arrays: np.arange()\n",
    "\n",
    "The function np.arange() is great for creating vectors easily. Here, we create a vector with values spanning 1 up to (but not including) 5:"
   ]
  },
  {
   "cell_type": "code",
   "execution_count": 3,
   "id": "eb32346c",
   "metadata": {},
   "outputs": [
    {
     "data": {
      "text/plain": [
       "array([1, 2, 3, 4])"
      ]
     },
     "execution_count": 3,
     "metadata": {},
     "output_type": "execute_result"
    }
   ],
   "source": [
    "np.arange(1,5)"
   ]
  },
  {
   "cell_type": "markdown",
   "id": "36a43ce0",
   "metadata": {},
   "source": [
    "### Defining arrays: np.zeros, np.ones, np.full\n",
    "\n",
    "In many programming tasks, it can be useful to initialize a variable and then write a value to it later in the code. If that variable happens to be a NumPy array, a common approach would be to create it as an array with zeros in every element. We can do this using `np.zeros()`. Here, we create an array of zeros with three rows and one column."
   ]
  },
  {
   "cell_type": "code",
   "execution_count": 4,
   "id": "b9638dea",
   "metadata": {},
   "outputs": [
    {
     "data": {
      "text/plain": [
       "array([[0.],\n",
       "       [0.],\n",
       "       [0.]])"
      ]
     },
     "execution_count": 4,
     "metadata": {},
     "output_type": "execute_result"
    }
   ],
   "source": [
    "np.zeros((3,1))"
   ]
  },
  {
   "cell_type": "markdown",
   "id": "7abc4024",
   "metadata": {},
   "source": [
    "You can also initialize an array with ones instead of zeros:"
   ]
  },
  {
   "cell_type": "code",
   "execution_count": 5,
   "id": "b2c2d057",
   "metadata": {},
   "outputs": [
    {
     "data": {
      "text/plain": [
       "array([[1.],\n",
       "       [1.],\n",
       "       [1.]])"
      ]
     },
     "execution_count": 5,
     "metadata": {},
     "output_type": "execute_result"
    }
   ],
   "source": [
    "np.ones((3, 1))"
   ]
  },
  {
   "cell_type": "markdown",
   "id": "85a5c64f",
   "metadata": {},
   "source": [
    "`np.full()` creates an array repeating a fixed value (defaults to zero). Here we create a 2x3 array with the number 7 in each element:"
   ]
  },
  {
   "cell_type": "code",
   "execution_count": 6,
   "id": "477773e3",
   "metadata": {},
   "outputs": [
    {
     "data": {
      "text/plain": [
       "array([[7, 7, 7],\n",
       "       [7, 7, 7]])"
      ]
     },
     "execution_count": 6,
     "metadata": {},
     "output_type": "execute_result"
    }
   ],
   "source": [
    "np.full((2,3),7)"
   ]
  },
  {
   "cell_type": "markdown",
   "id": "3bcc76a7",
   "metadata": {},
   "source": [
    "Making arrays in this way is also helpful for appending columns or rows to an existing arrays, which will be covered a little later.\n",
    "\n",
    "### Array shape\n",
    "\n",
    "All arrays have a shape accessible using `.shape`.\n",
    "\n",
    "For example, let's get the shape of a vector, matrix, and tensor."
   ]
  },
  {
   "cell_type": "code",
   "execution_count": 7,
   "id": "e4520ee7",
   "metadata": {},
   "outputs": [
    {
     "name": "stdout",
     "output_type": "stream",
     "text": [
      "Vector shape: (5,)\n",
      "Matrix shape: (3, 2)\n",
      "Tensor shape: (2, 3, 3)\n"
     ]
    }
   ],
   "source": [
    "vector = np.arange(5)\n",
    "print(\"Vector shape:\", vector.shape)\n",
    "\n",
    "matrix = np.ones([3, 2])\n",
    "print(\"Matrix shape:\", matrix.shape)\n",
    "\n",
    "tensor = np.zeros([2, 3, 3])\n",
    "print(\"Tensor shape:\", tensor.shape)"
   ]
  },
  {
   "cell_type": "markdown",
   "id": "1a5dba62",
   "metadata": {},
   "source": [
    "The shape of the vector is one-dimensional. The first number in its shape is the number of elements (or rows). For the matrix, `.shape` tells us we have three rows and two columns. The tensor is slightly different. The first number is how many matrices/slices we have. The second gives the number of rows. The third provides the number of columns.\n",
    "\n",
    "If you're familiar with `pandas`, you might have noticed that the syntax for the number of rows and columns is strikingly similar to the equivalent in pandas. As we continue to explore NumPy arrays, you may notice many more similarities.\n",
    "\n",
    "If we print the tensor, we can see it's representation as a list of 3x3 matrices:"
   ]
  },
  {
   "cell_type": "code",
   "execution_count": 8,
   "id": "b4ee170e",
   "metadata": {},
   "outputs": [
    {
     "data": {
      "text/plain": [
       "array([[[0., 0., 0.],\n",
       "        [0., 0., 0.],\n",
       "        [0., 0., 0.]],\n",
       "\n",
       "       [[0., 0., 0.],\n",
       "        [0., 0., 0.],\n",
       "        [0., 0., 0.]]])"
      ]
     },
     "execution_count": 8,
     "metadata": {},
     "output_type": "execute_result"
    }
   ],
   "source": [
    "tensor"
   ]
  },
  {
   "cell_type": "markdown",
   "id": "f5f149db",
   "metadata": {},
   "source": [
    "### Reshaping arrays\n",
    "\n",
    "We can reshape an array into any compatible dimensions using `.reshape`.\n",
    "\n",
    "For example, say we want a 3x3 matrix where each element is incremented from 1 to 9. Easy:"
   ]
  },
  {
   "cell_type": "code",
   "execution_count": 9,
   "id": "74a283ad",
   "metadata": {},
   "outputs": [
    {
     "name": "stdout",
     "output_type": "stream",
     "text": [
      "[1 2 3 4 5 6 7 8 9] \n",
      "\n",
      "[[1 2 3]\n",
      " [4 5 6]\n",
      " [7 8 9]] \n",
      "\n",
      "[1 2 3 4 5 6 7 8 9]\n"
     ]
    }
   ],
   "source": [
    "arr = np.arange(1, 10)\n",
    "print(arr, '\\n')\n",
    "\n",
    "# Reshape to 3x3 matrix\n",
    "arr = arr.reshape(3, 3)\n",
    "print(arr, '\\n')\n",
    "\n",
    "# Reshape back to the original size\n",
    "arr = arr.reshape(9)\n",
    "print(arr)"
   ]
  },
  {
   "cell_type": "markdown",
   "id": "56ff0a77",
   "metadata": {},
   "source": [
    "Numpy can try to infer one of the dimensions if you use -1. You will still need to have precisely the correct number of digits for the inference to work."
   ]
  },
  {
   "cell_type": "code",
   "execution_count": 10,
   "id": "4c834f74",
   "metadata": {},
   "outputs": [
    {
     "name": "stdout",
     "output_type": "stream",
     "text": [
      "[[1 2 3]\n",
      " [4 5 6]\n",
      " [7 8 9]]\n"
     ]
    }
   ],
   "source": [
    "arr = np.arange(1, 10).reshape(3, -1)\n",
    "print(arr)"
   ]
  },
  {
   "cell_type": "markdown",
   "id": "821dee83",
   "metadata": {},
   "source": [
    "### Reading data from a file into an array\n",
    "\n",
    "Usually, data sets are too large to define manually. Instead, the most common use case is to import data from a data file into a NumPy array.\n",
    "\n",
    "As an example, let's take some publicly-available data from the U.S. Energy Information Administration. The dataset we'll explore contains information on electricity generation in the USA from a range of sources. You can download the file, MER_T07_02A.csv, here: https://www.eia.gov/totalenergy/data/browser/csv.php?tbl=T07.02A.\n",
    "\n",
    "Because the data file is a CSV file, we'll use the `csv` module to import the data. It's worth noting that NumPy also has functions to read other types of data files directly into NumPy arrays, such as `np.genfromtxt()` for text files.\n",
    "\n",
    "Here we're just reading the CSV file row-by-row, appending to a list, and then converting to a NumPy array:"
   ]
  },
  {
   "cell_type": "code",
   "execution_count": 15,
   "id": "c65b9abe",
   "metadata": {},
   "outputs": [],
   "source": [
    "import csv\n",
    "\n",
    "data = []\n",
    "\n",
    "with open('MER_T07_02A.csv', 'r') as csvfile:\n",
    "    file_reader = csv.reader(csvfile, delimiter=',')\n",
    "    for row in file_reader:\n",
    "        data.append(row)\n",
    "        \n",
    "data = np.array(data) #convert the list of lists to a NumPy array"
   ]
  },
  {
   "cell_type": "markdown",
   "id": "3d31a95a",
   "metadata": {},
   "source": [
    "We now have our data stored in a NumPy array that we've named data. For much of the remainder of this article, we'll be exploring how NumPy's functionality can be used to manipulate and gain insights into this data.\n",
    "\n",
    "First, we'll explore some attributes of the array. One thing that we may want to know about an array is its dimensions:"
   ]
  },
  {
   "cell_type": "code",
   "execution_count": 12,
   "id": "b36826be",
   "metadata": {},
   "outputs": [
    {
     "data": {
      "text/plain": [
       "(8529, 6)"
      ]
     },
     "execution_count": 12,
     "metadata": {},
     "output_type": "execute_result"
    }
   ],
   "source": [
    "data.shape"
   ]
  },
  {
   "cell_type": "markdown",
   "id": "5d1d8fa7",
   "metadata": {},
   "source": [
    "For this two-dimensional array, we have 8230 rows and 6 columns of data.\n",
    "\n",
    "Another property of a NumPy array that we may wish to know is its data type. This information is stored in the dtype attribute. Calling dtype reveals that our array is made up of strings:"
   ]
  },
  {
   "cell_type": "code",
   "execution_count": 13,
   "id": "bfcd9bed",
   "metadata": {},
   "outputs": [
    {
     "data": {
      "text/plain": [
       "numpy.str_"
      ]
     },
     "execution_count": 13,
     "metadata": {},
     "output_type": "execute_result"
    }
   ],
   "source": [
    "data.dtype.type"
   ]
  },
  {
   "cell_type": "markdown",
   "id": "25dc356d",
   "metadata": {},
   "source": [
    "## Saving\n",
    "\n",
    "When we are ready to save our data, we can use the `save` function."
   ]
  },
  {
   "cell_type": "code",
   "execution_count": 14,
   "id": "353963d0",
   "metadata": {},
   "outputs": [],
   "source": [
    "np.save(open('data.npy', 'wb'), data)      # Saves data to a binary file with the .npy extension"
   ]
  },
  {
   "cell_type": "markdown",
   "id": "3eaff164",
   "metadata": {},
   "source": [
    "## Indexing\n",
    "\n",
    "At some point, it will become necessary to index (select) subsets of a NumPy array. For instance, you might want to plot one column of data or perform a manipulation of that column. NumPy uses the same indexing notation as MATLAB.\n",
    "\n",
    "### Basics of indexing notation\n",
    "\n",
    "- **Commas** separate axes of an array.\n",
    "- **Colons** mean \"through\". For example, x[0:4] means the first 5 rows (rows 0 through 4) of x.\n",
    "- **Negative numbers** mean \"from the end of the array.\" For example, x[-1] means the last row of x.\n",
    "- **Blanks** before or after colons means \"the rest of\". For example, x[3:] means the rest of the rows in x after row 3. Similarly, x[:3] means all the rows up to row 3. x[:] means all rows of x.\n",
    "- When there are **fewer indices than axes**, the missing indices are considered complete slices. For example, in a 3-axis array, x[0,0] means all data in the 3rd axis of the 1st row and 1st column.\n",
    "- **Dots** \"...\" mean as many colons as needed to produce a complete indexing tuple. For example, x[1,2,...] is the same as x[1,2,:,:,:].\n",
    "\n",
    "In the following code, we'll explore some useful examples of selecting subsets from an array."
   ]
  },
  {
   "cell_type": "markdown",
   "id": "2033ad5a",
   "metadata": {},
   "source": [
    "### Example\n",
    "\n",
    "![example](https://storage.googleapis.com/lds-media/images/numpy-indexing-arrays.width-1200.jpg)\n",
    "\n",
    "#### Indexing example 1: Colons and commas\n",
    "\n",
    "Let's say we are interested in the first ten rows in the 4th column. We can use the following syntax to index this array section: `__array[start_row:end_row, col]__`"
   ]
  },
  {
   "cell_type": "code",
   "execution_count": 15,
   "id": "a8ca22ea",
   "metadata": {},
   "outputs": [
    {
     "data": {
      "text/plain": [
       "array(['Description', 'Electricity Net Generation From Coal, All Sectors',\n",
       "       'Electricity Net Generation From Coal, All Sectors',\n",
       "       'Electricity Net Generation From Coal, All Sectors',\n",
       "       'Electricity Net Generation From Coal, All Sectors',\n",
       "       'Electricity Net Generation From Coal, All Sectors',\n",
       "       'Electricity Net Generation From Coal, All Sectors',\n",
       "       'Electricity Net Generation From Coal, All Sectors',\n",
       "       'Electricity Net Generation From Coal, All Sectors',\n",
       "       'Electricity Net Generation From Coal, All Sectors'], dtype='<U80')"
      ]
     },
     "execution_count": 15,
     "metadata": {},
     "output_type": "execute_result"
    }
   ],
   "source": [
    "data[0:10,4]"
   ]
  },
  {
   "cell_type": "markdown",
   "id": "40086ad3",
   "metadata": {},
   "source": [
    "The first row is the header for the column. Column 4 contains a description of energy sectors.\n",
    "\n",
    "#### Indexing example 2: Colons as *all* rows or columns\n",
    "\n",
    "A colon can also denote all rows, or all columns. Here, we index all rows of column 4."
   ]
  },
  {
   "cell_type": "code",
   "execution_count": 16,
   "id": "a34ebe35",
   "metadata": {},
   "outputs": [
    {
     "data": {
      "text/plain": [
       "array(['Description', 'Electricity Net Generation From Coal, All Sectors',\n",
       "       'Electricity Net Generation From Coal, All Sectors', ...,\n",
       "       'Electricity Net Generation Total (including from sources not shown), All Sectors',\n",
       "       'Electricity Net Generation Total (including from sources not shown), All Sectors',\n",
       "       'Electricity Net Generation Total (including from sources not shown), All Sectors'],\n",
       "      dtype='<U80')"
      ]
     },
     "execution_count": 16,
     "metadata": {},
     "output_type": "execute_result"
    }
   ],
   "source": [
    "data[:,4]"
   ]
  },
  {
   "cell_type": "markdown",
   "id": "3bf7755d",
   "metadata": {},
   "source": [
    "#### Indexing example 3: Subset of columns\n",
    "\n",
    "We can use the same format for any dimension of an array. The general syntax is: array[start_row:end_row, start_col:end_col]. The following indexes all rows and the second column up to (but not including) the 4th column:"
   ]
  },
  {
   "cell_type": "code",
   "execution_count": 17,
   "id": "33b2ed46",
   "metadata": {},
   "outputs": [
    {
     "data": {
      "text/plain": [
       "array([['Value', 'Column_Order'],\n",
       "       ['135451.32', '1'],\n",
       "       ['154519.994', '1'],\n",
       "       ...,\n",
       "       ['374205.509', '13'],\n",
       "       ['404614.884', '13'],\n",
       "       ['414224.475', '13']], dtype='<U80')"
      ]
     },
     "execution_count": 17,
     "metadata": {},
     "output_type": "execute_result"
    }
   ],
   "source": [
    "data[:,2:4]"
   ]
  },
  {
   "cell_type": "markdown",
   "id": "09f031ff",
   "metadata": {},
   "source": [
    "#### Indexing example 4: Explicitly specifying column numbers\n",
    "\n",
    "What if the columns we need are not next to each other? Instead of indexing a range of columns, it can be useful to specify them explicitly. To explicitly specify particular columns, we just include them in a list. Let's index the five rows after the header, selecting only columns 2 and 3. This time, we'll write the output to a new array named subset that we can re-use in the following example."
   ]
  },
  {
   "cell_type": "code",
   "execution_count": 18,
   "id": "05502fbe",
   "metadata": {},
   "outputs": [
    {
     "data": {
      "text/plain": [
       "array([['135451.32', '1'],\n",
       "       ['154519.994', '1'],\n",
       "       ['185203.657', '1'],\n",
       "       ['195436.666', '1'],\n",
       "       ['218846.325', '1']], dtype='<U80')"
      ]
     },
     "execution_count": 18,
     "metadata": {},
     "output_type": "execute_result"
    }
   ],
   "source": [
    "subset = data[1:6, [2,3]]\n",
    "subset"
   ]
  },
  {
   "cell_type": "markdown",
   "id": "26d17467",
   "metadata": {},
   "source": [
    "#### Indexing example 5: Mask arrays\n",
    "\n",
    "Another convenient way to index certain sections of a NumPy array is to use a mask array. A mask array, also known as a logical array, contains boolean elements (i.e. True or False). Indexing of a given array element is determined by the value of the mask array's corresponding element.\n",
    "\n",
    "First, we define a NumPy array of True/False values, where the True values are the ones we want to keep. Then we mask the `subset` array from the previous example. The result is retaining only the rows that correspond to elements that are True in the mask array."
   ]
  },
  {
   "cell_type": "code",
   "execution_count": 19,
   "id": "d85fabbb",
   "metadata": {},
   "outputs": [
    {
     "data": {
      "text/plain": [
       "array([['154519.994', '1'],\n",
       "       ['195436.666', '1'],\n",
       "       ['218846.325', '1']], dtype='<U80')"
      ]
     },
     "execution_count": 19,
     "metadata": {},
     "output_type": "execute_result"
    }
   ],
   "source": [
    "mask_array = np.array([False, True, False, True, True])\n",
    "\n",
    "subset[mask_array]"
   ]
  },
  {
   "cell_type": "markdown",
   "id": "8d1be5c4",
   "metadata": {},
   "source": [
    "As you can see, the mask array retained the rows corresponding to True and the excluded the ones corresponding to False. It is worth noting that a similar approach is used for indexing pandas dataframes.\n",
    "\n",
    "Masking is a powerful tool that allows us to index elements based on logical expressions. We'll make good use of in the case study later in the article.\n",
    "\n",
    "#### Concatenating\n",
    "NumPy also provides useful functions for concatenating (i.e., joining) arrays. Let's say we wanted to restrict our attention to the first and the last three rows of our dataset. First, we'll define new sub-arrays as follows:"
   ]
  },
  {
   "cell_type": "code",
   "execution_count": 20,
   "id": "db01dc4a",
   "metadata": {},
   "outputs": [
    {
     "data": {
      "text/plain": [
       "array([['MSN', 'YYYYMM', 'Value', 'Column_Order', 'Description', 'Unit'],\n",
       "       ['CLETPUS', '194913', '135451.32', '1',\n",
       "        'Electricity Net Generation From Coal, All Sectors',\n",
       "        'Million Kilowatthours'],\n",
       "       ['CLETPUS', '195013', '154519.994', '1',\n",
       "        'Electricity Net Generation From Coal, All Sectors',\n",
       "        'Million Kilowatthours']], dtype='<U80')"
      ]
     },
     "execution_count": 20,
     "metadata": {},
     "output_type": "execute_result"
    }
   ],
   "source": [
    "array_start = data[:3,:]\n",
    "array_start"
   ]
  },
  {
   "cell_type": "code",
   "execution_count": 21,
   "id": "fe585f47",
   "metadata": {},
   "outputs": [
    {
     "data": {
      "text/plain": [
       "array([['ELETPUS', '202106', '374205.509', '13',\n",
       "        'Electricity Net Generation Total (including from sources not shown), All Sectors',\n",
       "        'Million Kilowatthours'],\n",
       "       ['ELETPUS', '202107', '404614.884', '13',\n",
       "        'Electricity Net Generation Total (including from sources not shown), All Sectors',\n",
       "        'Million Kilowatthours'],\n",
       "       ['ELETPUS', '202108', '414224.475', '13',\n",
       "        'Electricity Net Generation Total (including from sources not shown), All Sectors',\n",
       "        'Million Kilowatthours']], dtype='<U80')"
      ]
     },
     "execution_count": 21,
     "metadata": {},
     "output_type": "execute_result"
    }
   ],
   "source": [
    "array_end = data[-3:,:]\n",
    "array_end"
   ]
  },
  {
   "cell_type": "markdown",
   "id": "a9479c4a",
   "metadata": {},
   "source": [
    "To concatenate these arrays we can use `np.vstack`, where the v denotes vertical, or row-wise, stacking of the sub-arrays:"
   ]
  },
  {
   "cell_type": "code",
   "execution_count": 22,
   "id": "bf3bf08b",
   "metadata": {},
   "outputs": [
    {
     "data": {
      "text/plain": [
       "array([['MSN', 'YYYYMM', 'Value', 'Column_Order', 'Description', 'Unit'],\n",
       "       ['CLETPUS', '194913', '135451.32', '1',\n",
       "        'Electricity Net Generation From Coal, All Sectors',\n",
       "        'Million Kilowatthours'],\n",
       "       ['CLETPUS', '195013', '154519.994', '1',\n",
       "        'Electricity Net Generation From Coal, All Sectors',\n",
       "        'Million Kilowatthours'],\n",
       "       ['ELETPUS', '202106', '374205.509', '13',\n",
       "        'Electricity Net Generation Total (including from sources not shown), All Sectors',\n",
       "        'Million Kilowatthours'],\n",
       "       ['ELETPUS', '202107', '404614.884', '13',\n",
       "        'Electricity Net Generation Total (including from sources not shown), All Sectors',\n",
       "        'Million Kilowatthours'],\n",
       "       ['ELETPUS', '202108', '414224.475', '13',\n",
       "        'Electricity Net Generation Total (including from sources not shown), All Sectors',\n",
       "        'Million Kilowatthours']], dtype='<U80')"
      ]
     },
     "execution_count": 22,
     "metadata": {},
     "output_type": "execute_result"
    }
   ],
   "source": [
    "np.vstack((array_start, array_end))"
   ]
  },
  {
   "cell_type": "markdown",
   "id": "cb2ac4de",
   "metadata": {},
   "source": [
    "Here we've stacked the first three rows and last three rows on top of each other.\n",
    "\n",
    "The horizontal counterpart of `np.vstack()` is `np.hstack()`, which combines sub-arrays column-wise. For higher dimensional joins, the most common function is `np.concatenate()`. The syntax for this function is similar to the 2D versions, with the additional requirement of specifying the axis along which concatenation should be performed.\n",
    "\n",
    "Calling `np.concatenate((array_start, array_end), axis = 0)` would generate identical output to using `np.vstack()`. Axis=1 would generate identical output to using `np.hstack()`.\n",
    "\n",
    "### Splitting\n",
    "\n",
    "The opposite of concatenating (i.e., joining) arrays is splitting them. To split an array, NumPy provides the following commands:\n",
    "\n",
    "- hsplit: splits along the horizontal axis\n",
    "- vsplit: splits along the vertical axis\n",
    "- dsplit: Splits an array along the 3rd axis (depth)\n",
    "- array_split: lets you specify the axis to use in splitting\n",
    "\n",
    "### Adding/Removing Elements\n",
    "\n",
    "NumPy provides several functions for adding or deleting data from an array:\n",
    "\n",
    "- resize: Returns a new array with the specified shape, with zeros as placeholders in all the new cells.\n",
    "- append: Adds values to the end of an array\n",
    "- insert: Adds values in the middle of an array\n",
    "- delete: Returns a new array with given data removed\n",
    "- unique: Finds only the unique values of an array\n",
    "\n",
    "### Sorting\n",
    "There are several useful functions for sorting array elements. Some of the available sorting algorithms include `quicksort`, `heapsort`, `mergesort`, and `timesort`.\n",
    "\n",
    "For example, here's how you'd merge sort the columns of an array:"
   ]
  },
  {
   "cell_type": "code",
   "execution_count": 23,
   "id": "5512011b",
   "metadata": {},
   "outputs": [
    {
     "data": {
      "text/plain": [
       "array([[1, 2, 3, 8],\n",
       "       [4, 5, 8, 9]])"
      ]
     },
     "execution_count": 23,
     "metadata": {},
     "output_type": "execute_result"
    }
   ],
   "source": [
    "a = np.array([[3,8,1,2], [9,5,4,8]])\n",
    "np.sort(a, axis=1, kind='mergesort')      # Sort by column"
   ]
  },
  {
   "cell_type": "markdown",
   "id": "54987cb4",
   "metadata": {},
   "source": [
    "### No Copy vs. Shallow Copy vs. Deep Copy\n",
    "\n",
    "A common source of confusion NumPy beginners is knowing when data is and isn't copied into a new object.\n",
    "\n",
    "**No copy**: function calls and assignments:"
   ]
  },
  {
   "cell_type": "code",
   "execution_count": 24,
   "id": "51482d3a",
   "metadata": {},
   "outputs": [
    {
     "name": "stdout",
     "output_type": "stream",
     "text": [
      "99622832\n",
      "99622832\n"
     ]
    }
   ],
   "source": [
    "print(id(a))\n",
    "\n",
    "# Object \"b\" points to object \"a\". No new object is created.\n",
    "b = a       \n",
    "\n",
    "# Python passes objects as references. No copy is made.\n",
    "def f(x):   \n",
    "    print(id(x))\n",
    "    \n",
    "f(b)"
   ]
  },
  {
   "cell_type": "markdown",
   "id": "72758cda",
   "metadata": {},
   "source": [
    "Notice the id of `b` is the same as `a`, even if it's passed into a function.\n",
    "\n",
    "**View/Shallow Copy**: Arrays that share some data. The view method creates an object looking at the same data. Slicing an array returns a view of that array."
   ]
  },
  {
   "cell_type": "code",
   "execution_count": 25,
   "id": "49c62d1a",
   "metadata": {},
   "outputs": [],
   "source": [
    "# View\n",
    "a = b.view()\n",
    "\n",
    "# The shape of b doesn't change\n",
    "a = a.reshape((4, 2))    \n",
    "\n",
    "# Slice\n",
    "# a[:] is a view of \"a\".\n",
    "a[:] = 5"
   ]
  },
  {
   "cell_type": "markdown",
   "id": "4618d2cd",
   "metadata": {},
   "source": [
    "**Deep copy**: Use the `copy` method to make a complete copy of an array and all its data."
   ]
  },
  {
   "cell_type": "code",
   "execution_count": 26,
   "id": "1e352148",
   "metadata": {},
   "outputs": [],
   "source": [
    "c = a.copy()"
   ]
  },
  {
   "cell_type": "markdown",
   "id": "61ac8c66",
   "metadata": {},
   "source": [
    "The `copy()` method creates the new array object `c` that is identical to `a`."
   ]
  },
  {
   "cell_type": "markdown",
   "id": "711c5639",
   "metadata": {},
   "source": [
    "# Section 2: Must-know tools\n",
    "\n",
    "Let's now look at three NumPy tools that are especially handy in data science applications: *broadcasting*, *vectorization*, and *pseudo-random number generation*. For this section, we'll put our electricity dataset aside in favor of even more straightforward examples.\n",
    "\n",
    "## Broadcasting\n",
    "\n",
    "![broadcasting](https://storage.googleapis.com/lds-media/images/fig_broadcast_visual_1.width-1200.jpg)\n",
    "\n",
    "Broadcasting is a process performed by NumPy that allows mathematical operations to work with objects that don't necessarily have compatible dimensions.\n",
    "\n",
    "Let's explore broadcasting using some examples.\n",
    "\n",
    "### Broadcasting example 1: Adding a scalar to a matrix\n",
    "\n",
    "Suppose we would like to add 1 to each element of a 2x2 array. With NumPy arrays, it is as simple as defining the array and adding 1:"
   ]
  },
  {
   "cell_type": "code",
   "execution_count": 2,
   "id": "14aef2b9",
   "metadata": {},
   "outputs": [
    {
     "data": {
      "text/plain": [
       "array([[2, 3],\n",
       "       [4, 5]])"
      ]
     },
     "execution_count": 2,
     "metadata": {},
     "output_type": "execute_result"
    }
   ],
   "source": [
    "import numpy as np\n",
    "\n",
    "array_a = np.array([[1, 2],\n",
    "                    [3, 4]])\n",
    "\n",
    "array_a + 1"
   ]
  },
  {
   "cell_type": "markdown",
   "id": "17eb92c8",
   "metadata": {},
   "source": [
    "Keep in mind that any university linear algebra instructor would be furious if you even mentioned the notion of adding a scalar to a matrix. And not without reason: it isn't a mathematically valid operation.\n",
    "\n",
    "However, what NumPy is doing in the background is valid. NumPy creates a second array with value 1 for all elements (depicted by transparent blocks in the above figure). NumPy then adds the second array to the first one.\n",
    "\n",
    "In other words, NumPy has broadcast the scalar to a new array of appropriate dimensions to perform the computation.\n",
    "\n",
    "Numpy accomplishes broadcasting in a very computationally efficient way, which is one of the key advantages of using broadcasting in your code. Broadcasting may also make your code simpler and more readable.\n",
    "\n",
    "Let's look at some more examples.\n",
    "\n",
    "### Broadcasting example 2: Multiplying a matrix by a scalar\n",
    "\n",
    "Multiplication works the same way as addition."
   ]
  },
  {
   "cell_type": "code",
   "execution_count": 3,
   "id": "2546a10c",
   "metadata": {},
   "outputs": [
    {
     "data": {
      "text/plain": [
       "array([[2, 4],\n",
       "       [6, 8]])"
      ]
     },
     "execution_count": 3,
     "metadata": {},
     "output_type": "execute_result"
    }
   ],
   "source": [
    "array_a * 2"
   ]
  },
  {
   "cell_type": "markdown",
   "id": "cb47a6c8",
   "metadata": {},
   "source": [
    "### Broadcasting example 3:\n",
    "\n",
    "We can use broadcasting in cases beyond just overcoming the dimensional mismatch between a scalar and an array. NumPy can also broadcast arrays to enable computations with other arrays.\n",
    "\n",
    "Let's say that each row of `array_a`, defined above, is a collection of two objects. The coordinates of the first object (first row of `array_a`) is located at (x = 1, y = 2), and the other object (second row of `array_a`) is located at (x = 3, y = 4). To find the coordinates of both objects if they both were translated by 3 units in the x direction and 1 unit in the y direction, all we would need to do is add (3, 1) to `array_a`:"
   ]
  },
  {
   "cell_type": "code",
   "execution_count": 4,
   "id": "6f507bbc",
   "metadata": {},
   "outputs": [
    {
     "data": {
      "text/plain": [
       "array([[4, 3],\n",
       "       [6, 5]])"
      ]
     },
     "execution_count": 4,
     "metadata": {},
     "output_type": "execute_result"
    }
   ],
   "source": [
    "array_a + np.array([3, 1])"
   ]
  },
  {
   "cell_type": "markdown",
   "id": "f98b3f4a",
   "metadata": {},
   "source": [
    "This time, NumPy created a second 2x2 matrix (in the background), with both rows equal to [3, 1], to perform the operation. In other words, Numpy broadcasts the 1x2 array to an array appropriate to perform the operation with the 2x2 array.\n",
    "\n",
    "The operation is equivalent to the one depicted in the second row of the above figure.\n",
    "\n",
    "For even more examples of broadcasting, the best place to look is the[documentation](/doc/stable/reference/ufuncs.html#broadcasting).\n",
    "\n",
    "Let's now move on to another essential tool: **vectorization**.\n",
    "\n",
    "## Vectorization\n",
    "\n",
    "Vectorization is the process of modifying code to utilize array operation methods. Array operations can be computed internally by NumPy using a lower-level language, which leads to many benefits:\n",
    "\n",
    "- Vectorized code tends to execute much faster than equivalent code that uses loops (such as for-loops and while-loops). Usually a lot faster. Therefore, vectorization can be very important for machine learning, where we often work with large datasets\n",
    "- Vectorized code can often be more compact. Having fewer lines of code to write can potentially speed-up the code-writing process, make code more readable, and reduce the risk of errors\n",
    "\n",
    "### Vectorization Example 1\n",
    "\n",
    "Let's consider a problem where we have two one-dimensional arrays, `a` and `b`, and we need to multiply each element in `a` with the corresponding element in `b`.\n",
    "\n",
    "First we'll define some arbitrary values for `a` and `b`:"
   ]
  },
  {
   "cell_type": "code",
   "execution_count": 5,
   "id": "2f3dc966",
   "metadata": {},
   "outputs": [
    {
     "name": "stdout",
     "output_type": "stream",
     "text": [
      "array a: [ 1  2  3  4  5  6  7  8  9 10 11 12 13 14 15 16 17 18 19 20 21 22 23 24\n",
      " 25 26 27 28 29 30 31 32 33 34 35 36 37 38 39 40 41 42 43 44 45 46 47 48\n",
      " 49 50]\n",
      "\n",
      "array b: [ 51  52  53  54  55  56  57  58  59  60  61  62  63  64  65  66  67  68\n",
      "  69  70  71  72  73  74  75  76  77  78  79  80  81  82  83  84  85  86\n",
      "  87  88  89  90  91  92  93  94  95  96  97  98  99 100]\n"
     ]
    }
   ],
   "source": [
    "a = np.arange(1,51)\n",
    "b = np.arange(51,101)\n",
    "\n",
    "print(\"array a:\", a)\n",
    "print(\"\\narray b:\", b)"
   ]
  },
  {
   "cell_type": "markdown",
   "id": "904757cc",
   "metadata": {},
   "source": [
    "First we'll multiply the elements using a simple Python loop. This is the **non-vectorized** version:"
   ]
  },
  {
   "cell_type": "code",
   "execution_count": 6,
   "id": "d676dfd2",
   "metadata": {},
   "outputs": [],
   "source": [
    "def non_vectorized_output(a, b):\n",
    "    output = []\n",
    "    for j in range(len(a)):\n",
    "        output.append(a[j]*b[j])\n",
    "    return output"
   ]
  },
  {
   "cell_type": "markdown",
   "id": "29798f7b",
   "metadata": {},
   "source": [
    "#### Calculating the speed up\n",
    "\n",
    "Using Jupyter's magic `timeit` command, we can calculate how long it takes to run this function over many executions:"
   ]
  },
  {
   "cell_type": "code",
   "execution_count": 7,
   "id": "1811e9e7",
   "metadata": {},
   "outputs": [
    {
     "name": "stdout",
     "output_type": "stream",
     "text": [
      "17.1 µs ± 423 ns per loop (mean ± std. dev. of 7 runs, 100000 loops each)\n"
     ]
    }
   ],
   "source": [
    "nv_time = %timeit -o non_vectorized_output(a, b)"
   ]
  },
  {
   "cell_type": "markdown",
   "id": "8cb4ab63",
   "metadata": {},
   "source": [
    "The `%timeit -o` command will run a function over many executions and store the timing results in a variable. You can also just run `%timeit non_vectorized_output(a, b)` if you don't care about storing the result in a variable.\n",
    "\n",
    "Now we'll use the multiplication operator between arrays to allow Numpy to handle the multiplication instead. This is the **vectorized** version:"
   ]
  },
  {
   "cell_type": "code",
   "execution_count": 8,
   "id": "f0e98b1e",
   "metadata": {},
   "outputs": [],
   "source": [
    "def vectorized_output(a, b):\n",
    "    return a * b"
   ]
  },
  {
   "cell_type": "code",
   "execution_count": 9,
   "id": "eab2e263",
   "metadata": {},
   "outputs": [
    {
     "name": "stdout",
     "output_type": "stream",
     "text": [
      "579 ns ± 7.38 ns per loop (mean ± std. dev. of 7 runs, 1000000 loops each)\n"
     ]
    }
   ],
   "source": [
    "v_time = %timeit -o vectorized_output(a, b)"
   ]
  },
  {
   "cell_type": "markdown",
   "id": "b5a63049",
   "metadata": {},
   "source": [
    "As you can see, the looping in the non-vectorized version is performed in pure Python (i.e., without using NumPy) with a for-loop. Although it would be challenging to make this non-vectorized code function any more compactly, it still occupies three more lines of code than the vectorized version. This compactness is in part because the looping in the vectorized version happens in the background.\n",
    "\n",
    "It's clear that vectorized code is more compact, but what is the difference in computation time? Let's print the results in a way that's easier to read:"
   ]
  },
  {
   "cell_type": "code",
   "execution_count": 10,
   "id": "0617c641",
   "metadata": {
    "scrolled": true
   },
   "outputs": [
    {
     "name": "stdout",
     "output_type": "stream",
     "text": [
      "Non-vectorized version: 17.13 microseconds per execution, average\n",
      "Vectorized version: 0.58 microseconds per execution, average\n",
      "Computation was 30 times faster using vectorization\n"
     ]
    }
   ],
   "source": [
    "print('Non-vectorized version:', f'{1E6 * nv_time.average:0.2f}', 'microseconds per execution, average')\n",
    "\n",
    "print('Vectorized version:', f'{1E6 * v_time.average:0.2f}', 'microseconds per execution, average')\n",
    "\n",
    "print('Computation was', \"%.0f\" % (nv_time.average / v_time.average), 'times faster using vectorization')"
   ]
  },
  {
   "cell_type": "markdown",
   "id": "6d47584b",
   "metadata": {},
   "source": [
    "### Vectorization example 2\n",
    "\n",
    "In this second example, we'll evaluate a set of linear expressions. Again, this task could be accomplished either using for-loops or using vectorized code.\n",
    "\n",
    "In this case, the vectorized version will use matrix multiplication to evaluate the linear expressions. If you're familiar with machine learning (ML), the next paragraph will provide some context about when you might encounter this in ML.\n",
    "\n",
    "#### Machine Learning context\n",
    "\n",
    "Let's imagine a machine learning problem where we use a linear regression algorithm to model the cost of electricity.\n",
    "\n",
    "Let's denote our model features as x1, x2, .. xn. Features could represent things like the **amount of available wind energy**, the **current gas price**, and the **current load on the grid**.\n",
    "\n",
    "After we train the algorithm, we obtain model parameters, θ0, θ1, .. θn. These model parameters constitute the weights that should be used for each feature.\n",
    "\n",
    "For instance, x2 might represent the price of gas. The model might find that gas prices are particularly decisive in determining the price of electricity. The corresponding weight of θ2 would then be expected to be much larger in magnitude than other weights for less important features. The result (hypothesis/prediction) returned by our linear regression model for a given set of x is a linear expression:\n",
    "\n",
    "![](https://i.imgur.com/Mza3xfV.png)\n",
    "\n",
    "Furthermore, let's assume we have a set of m test examples. In other words, we have m sets of x for which we would like to obtain the model's prediction. The linear expression, h, is to be calculated for each of the test examples. There will be a total of m individual hypothesis outputs.\n",
    "\n",
    "As we'll see below, this can all be calculated concisely using one vectorized statement. To start, we'll define some arbitrary values for the array of test examples (x), and the vector of model parameters (θ, theta).\n",
    "\n",
    "In an ML problem, our model parameters would be calculated as an output of an optimization procedure. For the sake of this example, we'll just use arbitrary values.\n",
    "\n",
    "First, define a 10x4 array (x) in which each row is a training set. Here, m=10 and n=4 :"
   ]
  },
  {
   "cell_type": "code",
   "execution_count": 33,
   "id": "7d7461c5",
   "metadata": {},
   "outputs": [
    {
     "name": "stdout",
     "output_type": "stream",
     "text": [
      "x:\n",
      " [[ 1  2  3  4]\n",
      " [ 5  6  7  8]\n",
      " [ 9 10 11 12]\n",
      " [13 14 15 16]\n",
      " [17 18 19 20]\n",
      " [21 22 23 24]\n",
      " [25 26 27 28]\n",
      " [29 30 31 32]\n",
      " [33 34 35 36]\n",
      " [37 38 39 40]]\n"
     ]
    }
   ],
   "source": [
    "x = np.arange(1,41).reshape(10,4) \n",
    "\n",
    "print('x:\\n', x)"
   ]
  },
  {
   "cell_type": "markdown",
   "id": "ce5829d9",
   "metadata": {},
   "source": [
    "`x` is now a range of 40 numbers reshaped to be 10 rows by 4 columns.\n",
    "\n",
    "Now, add a column of ones to represent x0, known in machine learning as the bias term. `x` is now a 10x5 array:"
   ]
  },
  {
   "cell_type": "code",
   "execution_count": 34,
   "id": "26f66448",
   "metadata": {},
   "outputs": [
    {
     "name": "stdout",
     "output_type": "stream",
     "text": [
      "x:\n",
      " [[ 1  1  2  3  4]\n",
      " [ 1  5  6  7  8]\n",
      " [ 1  9 10 11 12]\n",
      " [ 1 13 14 15 16]\n",
      " [ 1 17 18 19 20]\n",
      " [ 1 21 22 23 24]\n",
      " [ 1 25 26 27 28]\n",
      " [ 1 29 30 31 32]\n",
      " [ 1 33 34 35 36]\n",
      " [ 1 37 38 39 40]]\n"
     ]
    }
   ],
   "source": [
    "ones = np.full((10,1),1)\n",
    "\n",
    "x = np.hstack((ones,x))\n",
    "\n",
    "print('x:\\n', x)"
   ]
  },
  {
   "cell_type": "markdown",
   "id": "26d13746",
   "metadata": {},
   "source": [
    "Using `np.full`, we created a 10x1 array full of ones then horizontally stacked it (`np.hstack`) to the front of `x`.\n",
    "\n",
    "Now let's initialize our model parameters as a 5x1 array"
   ]
  },
  {
   "cell_type": "code",
   "execution_count": 35,
   "id": "486db5d8",
   "metadata": {},
   "outputs": [
    {
     "name": "stdout",
     "output_type": "stream",
     "text": [
      "theta:\n",
      " [[1]\n",
      " [2]\n",
      " [3]\n",
      " [4]\n",
      " [5]]\n"
     ]
    }
   ],
   "source": [
    "theta = np.arange(1,6).reshape(5,1)\n",
    "\n",
    "print('theta:\\n', theta)"
   ]
  },
  {
   "cell_type": "markdown",
   "id": "a285db86",
   "metadata": {},
   "source": [
    "Armed with our matrix x and θ vector , we'll proceed to define vectorized and non-vectorized versions of evaluating the linear expressions to compare the computation time."
   ]
  },
  {
   "cell_type": "code",
   "execution_count": 36,
   "id": "ba036605",
   "metadata": {},
   "outputs": [],
   "source": [
    "#Non-vectorized version\n",
    "def non_vectorized_output(x, theta):\n",
    "    h = []\n",
    "    for i in range(x.shape[0]):\n",
    "        total = 0\n",
    "        for j in range(x.shape[1]):\n",
    "            total = total + x[i, j] * theta[j, 0]\n",
    "        h.append(total)\n",
    "    return h\n",
    "    \n",
    "#Vectorized version\n",
    "def vectorized_output(x, theta):\n",
    "    h = np.matmul(x, theta) # NumPy's matrix multiplication function\n",
    "    return h"
   ]
  },
  {
   "cell_type": "code",
   "execution_count": 37,
   "id": "12f5f390",
   "metadata": {},
   "outputs": [
    {
     "name": "stdout",
     "output_type": "stream",
     "text": [
      "29.2 µs ± 501 ns per loop (mean ± std. dev. of 7 runs, 10000 loops each)\n"
     ]
    }
   ],
   "source": [
    "nv_time = %timeit -o non_vectorized_output(x, theta)"
   ]
  },
  {
   "cell_type": "code",
   "execution_count": 38,
   "id": "ec67c02b",
   "metadata": {},
   "outputs": [
    {
     "name": "stdout",
     "output_type": "stream",
     "text": [
      "1.4 µs ± 44.9 ns per loop (mean ± std. dev. of 7 runs, 1000000 loops each)\n"
     ]
    }
   ],
   "source": [
    "v_time = %timeit -o vectorized_output(x, theta)"
   ]
  },
  {
   "cell_type": "code",
   "execution_count": 39,
   "id": "d3811d6d",
   "metadata": {},
   "outputs": [
    {
     "name": "stdout",
     "output_type": "stream",
     "text": [
      "Non-vectorized version: 29.16 microseconds per execution, average\n",
      "Vectorized version: 1.40 microseconds per execution, average\n",
      "Computation was 21 times faster using vectorization\n"
     ]
    }
   ],
   "source": [
    "print('Non-vectorized version:', f'{1E6 * nv_time.average:0.2f}', 'microseconds per execution, average')\n",
    "\n",
    "print('Vectorized version:', f'{1E6 * v_time.average:0.2f}', 'microseconds per execution, average')\n",
    "\n",
    "print('Computation was', \"%.0f\" % (nv_time.average / v_time.average), 'times faster using vectorization')"
   ]
  },
  {
   "cell_type": "markdown",
   "id": "99e34f6e",
   "metadata": {},
   "source": [
    "Note that in both examples, NumPy's vectorized calculations significantly outperformed native Python calculations using loops. The improved performance is substantial.\n",
    "\n",
    "However, vectorization does have potential disadvantages. Vectorized code can be less intuitive to those who do not know how to read it. It can also be more memory intensive. The skill of knowing how much vectorization to use in your code is something that you'll develop with experience. The decision will always need to be made based on the nature of the application in question."
   ]
  },
  {
   "cell_type": "markdown",
   "id": "efa90778",
   "metadata": {},
   "source": [
    "## Pseudo-random number generation\n",
    "\n",
    "Before we finish this section, there is one more NumPy functionality that we should cover: pseudo-random number generation."
   ]
  },
  {
   "cell_type": "markdown",
   "id": "976589c5",
   "metadata": {},
   "source": [
    "Being able to generate pseudo-random numbers is often necessary in data science applications. Examples include modeling system noise and Monte Carlo simulations."
   ]
  },
  {
   "cell_type": "markdown",
   "id": "aad1d24b",
   "metadata": {},
   "source": [
    "Below we'll see how to generate random numbers (x) from two commonly encountered probability distributions: the uniform distribution and the normal (Gaussian) distribution.\n",
    "\n",
    "For this, we'll import `matplotlib` and set some default plotting styles:"
   ]
  },
  {
   "cell_type": "code",
   "execution_count": 11,
   "id": "0f25250e",
   "metadata": {},
   "outputs": [],
   "source": [
    "import matplotlib.pyplot as plt\n",
    "import matplotlib\n",
    "\n",
    "# Set some default plotting parameters\n",
    "matplotlib.rcParams.update({'font.size': 16,\n",
    "                           'figure.figsize': [10, 6],\n",
    "                           'lines.markersize': 6})"
   ]
  },
  {
   "cell_type": "markdown",
   "id": "0cacf49b",
   "metadata": {},
   "source": [
    "For the Uniform, we'll generate a NumPy array with 1000 samples randomly selected from a uniform distribution using `random.rand`.\n",
    "\n",
    "For the Normal, we'll generate a NumPy array with 1000 samples from a normal distribution centred at 5 with a standard deviation of 3 using `random.normal`:"
   ]
  },
  {
   "cell_type": "code",
   "execution_count": 12,
   "id": "bdb1d1e4",
   "metadata": {},
   "outputs": [],
   "source": [
    "uniform_data = np.random.rand(1000)\n",
    "normal_data = np.random.normal(loc=5, scale=3.0, size=1000)"
   ]
  },
  {
   "cell_type": "markdown",
   "id": "1f6ade2e",
   "metadata": {},
   "source": [
    "Here's a plot of the histograms for the Uniform data (first subplot) and the Normal data (second subplot):"
   ]
  },
  {
   "cell_type": "code",
   "execution_count": 13,
   "id": "a99d8e4b",
   "metadata": {},
   "outputs": [
    {
     "data": {
      "image/png": "[encoded data removed]",
      "text/plain": [
       "<Figure size 720x432 with 2 Axes>"
      ]
     },
     "metadata": {
      "needs_background": "light"
     },
     "output_type": "display_data"
    }
   ],
   "source": [
    "fig = plt.figure()   # Define the figure\n",
    "\n",
    "ax1 = fig.add_subplot(1,2,1)   # define location of first subplot\n",
    "ax1.hist(x=uniform_data, bins='auto',alpha=0.7, rwidth=0.85)\n",
    "ax1.set_title(\"Uniform Distribution\")\n",
    "\n",
    "ax2 = fig.add_subplot(1,2,2)   # define location of second subplot\n",
    "ax2.hist(x=normal_data, bins='auto', alpha=0.7, rwidth=0.7)\n",
    "ax2.set_title(\"Normal Distribution\")\n",
    "\n",
    "ax1.set_ylabel('Frequency')\n",
    "ax1.set_xlabel('x')\n",
    "ax2.set_xlabel('x')\n",
    "plt.show()"
   ]
  },
  {
   "cell_type": "markdown",
   "id": "6b9ffcc9",
   "metadata": {},
   "source": [
    "As we'd expect, uniform distribution's random values are more or less equally spaced between zero and one. By contrast, the values from the normal distribution take on the characteristic bell-curve shape.\n",
    "\n",
    "We can now use the sets of random numbers we've just generated in further computations, but we'll leave that for another time. To wrap up this article, let's put everything we learned together using our electricity dataset."
   ]
  },
  {
   "cell_type": "markdown",
   "id": "698484a3",
   "metadata": {},
   "source": [
    "# Section 3: Putting it all together\n",
    "\n",
    "Now that we know the basics of NumPy, broadcasting, and vectorization, we have everything we need to start diving into the electricity data that we imported at the start of this article.\n",
    "\n",
    "Let's assume we'd like to understand how the USA's electricity generation has changed over time.\n",
    "\n",
    "## Viewing the data\n",
    "\n",
    "Using what we've learned about indexing, we can start by separating the column labels from the rest of the data."
   ]
  },
  {
   "cell_type": "code",
   "execution_count": 16,
   "id": "e632a6d7",
   "metadata": {},
   "outputs": [
    {
     "name": "stdout",
     "output_type": "stream",
     "text": [
      "Header:\n",
      " ['MSN' 'YYYYMM' 'Value' 'Column_Order' 'Description' 'Unit'] \n",
      "\n",
      "First two rows:\n",
      " [['CLETPUS' '194913' '135451.32' '1'\n",
      "  'Electricity Net Generation From Coal, All Sectors'\n",
      "  'Million Kilowatthours']\n",
      " ['CLETPUS' '195013' '154519.994' '1'\n",
      "  'Electricity Net Generation From Coal, All Sectors'\n",
      "  'Million Kilowatthours']]\n"
     ]
    }
   ],
   "source": [
    "header = data[0,:]   # create a new NumPy array containing the column labels\n",
    "data = data[1:,:]   # remove the header from the rest of the data\n",
    "\n",
    "print('Header:\\n',header, '\\n\\nFirst two rows:\\n', data[:2,:])"
   ]
  },
  {
   "cell_type": "markdown",
   "id": "600c970d",
   "metadata": {},
   "source": [
    "To understand how electricity generation has changed with time, we'll need to pay attention to **column 1 (date)**, **column 2 (energy generated)**, and **column 4 (description)**.\n",
    "\n",
    "In this dataset, rows containing monthly data express date in the format 'YYYYMM'. Rows containing annual data express the date in the format 'YYYY13'.\n",
    "\n",
    "Our dataset happens to contain generation data from many different energy sources, so let's determine which energy sources are present in this dataset by inspecting the descriptions (column 4).\n",
    "\n",
    "The `np.unique()` function makes it easy to see all energy sources. As the name suggests, it will return all unique values in the array."
   ]
  },
  {
   "cell_type": "code",
   "execution_count": 17,
   "id": "752b4c3a",
   "metadata": {},
   "outputs": [
    {
     "data": {
      "text/plain": [
       "array(['Electricity Net Generation From Coal, All Sectors',\n",
       "       'Electricity Net Generation From Conventional Hydroelectric Power, All Sectors',\n",
       "       'Electricity Net Generation From Geothermal, All Sectors',\n",
       "       'Electricity Net Generation From Hydroelectric Pumped Storage, All Sectors',\n",
       "       'Electricity Net Generation From Natural Gas, All Sectors',\n",
       "       'Electricity Net Generation From Nuclear Electric Power, All Sectors',\n",
       "       'Electricity Net Generation From Other Gases, All Sectors',\n",
       "       'Electricity Net Generation From Petroleum, All Sectors',\n",
       "       'Electricity Net Generation From Solar, All Sectors',\n",
       "       'Electricity Net Generation From Waste, All Sectors',\n",
       "       'Electricity Net Generation From Wind, All Sectors',\n",
       "       'Electricity Net Generation From Wood, All Sectors',\n",
       "       'Electricity Net Generation Total (including from sources not shown), All Sectors'],\n",
       "      dtype='<U80')"
      ]
     },
     "execution_count": 17,
     "metadata": {},
     "output_type": "execute_result"
    }
   ],
   "source": [
    "np.unique(data[:,4])"
   ]
  },
  {
   "cell_type": "markdown",
   "id": "0719754c",
   "metadata": {},
   "source": [
    "This dataset contains information from a total of 13 categories of energy sources.\n",
    "\n",
    "## Extracting wind energy data\n",
    "\n",
    "Next, we'll extract a subset containing just the wind energy generation data. We'll be making extensive use of indexing with mask arrays, which we looked at earlier.\n",
    "\n",
    "Let's start by retaining only the rows that contain wind data. First, we'll create a mask array that contains True entries for every row of wind data:"
   ]
  },
  {
   "cell_type": "code",
   "execution_count": 18,
   "id": "ee2b5fe7",
   "metadata": {},
   "outputs": [
    {
     "data": {
      "text/plain": [
       "array([False, False, False, ..., False, False, False])"
      ]
     },
     "execution_count": 18,
     "metadata": {},
     "output_type": "execute_result"
    }
   ],
   "source": [
    "mask_array = (data[:,4] == 'Electricity Net Generation From Wind, All Sectors')\n",
    "mask_array"
   ]
  },
  {
   "cell_type": "markdown",
   "id": "ee0bd5e5",
   "metadata": {},
   "source": [
    "What this mask array essentially says is \"get all rows where column four equals 'Electricity Net Generation...'\"\n",
    "\n",
    "Now we can use it to mask our data:"
   ]
  },
  {
   "cell_type": "code",
   "execution_count": 19,
   "id": "8ea36d6d",
   "metadata": {},
   "outputs": [
    {
     "data": {
      "text/plain": [
       "array([['WYETPUS', '194913', 'Not Available', '12',\n",
       "        'Electricity Net Generation From Wind, All Sectors',\n",
       "        'Million Kilowatthours'],\n",
       "       ['WYETPUS', '195013', 'Not Available', '12',\n",
       "        'Electricity Net Generation From Wind, All Sectors',\n",
       "        'Million Kilowatthours'],\n",
       "       ['WYETPUS', '195113', 'Not Available', '12',\n",
       "        'Electricity Net Generation From Wind, All Sectors',\n",
       "        'Million Kilowatthours'],\n",
       "       ...,\n",
       "       ['WYETPUS', '202106', '26382.741', '12',\n",
       "        'Electricity Net Generation From Wind, All Sectors',\n",
       "        'Million Kilowatthours'],\n",
       "       ['WYETPUS', '202107', '21422.296', '12',\n",
       "        'Electricity Net Generation From Wind, All Sectors',\n",
       "        'Million Kilowatthours'],\n",
       "       ['WYETPUS', '202108', '26297.958', '12',\n",
       "        'Electricity Net Generation From Wind, All Sectors',\n",
       "        'Million Kilowatthours']], dtype='<U80')"
      ]
     },
     "execution_count": 19,
     "metadata": {},
     "output_type": "execute_result"
    }
   ],
   "source": [
    "wind_data = data[mask_array]\n",
    "wind_data"
   ]
  },
  {
   "cell_type": "markdown",
   "id": "e52f050d",
   "metadata": {},
   "source": [
    "Did you notice that we used **broadcasting** to generate the mask array? Broadcasting allowed the generation of a new array based on the logical evaluation of whether each string element in an array was equal to a single string.\n",
    "\n",
    "In the above output, we notice that some of the early rows contain the string _Not Available_ in the 'Value' column. _Not Available_ suggests that records only began later on. Let's exclude the rows for which no records exist:"
   ]
  },
  {
   "cell_type": "code",
   "execution_count": 20,
   "id": "7d8dd098",
   "metadata": {},
   "outputs": [
    {
     "data": {
      "text/plain": [
       "array([['WYETPUS', '198301', '0.172', '12',\n",
       "        'Electricity Net Generation From Wind, All Sectors',\n",
       "        'Million Kilowatthours'],\n",
       "       ['WYETPUS', '198302', '0.018', '12',\n",
       "        'Electricity Net Generation From Wind, All Sectors',\n",
       "        'Million Kilowatthours'],\n",
       "       ['WYETPUS', '198303', '0.313', '12',\n",
       "        'Electricity Net Generation From Wind, All Sectors',\n",
       "        'Million Kilowatthours'],\n",
       "       ...,\n",
       "       ['WYETPUS', '202106', '26382.741', '12',\n",
       "        'Electricity Net Generation From Wind, All Sectors',\n",
       "        'Million Kilowatthours'],\n",
       "       ['WYETPUS', '202107', '21422.296', '12',\n",
       "        'Electricity Net Generation From Wind, All Sectors',\n",
       "        'Million Kilowatthours'],\n",
       "       ['WYETPUS', '202108', '26297.958', '12',\n",
       "        'Electricity Net Generation From Wind, All Sectors',\n",
       "        'Million Kilowatthours']], dtype='<U80')"
      ]
     },
     "execution_count": 20,
     "metadata": {},
     "output_type": "execute_result"
    }
   ],
   "source": [
    "wind_data = wind_data[wind_data[:,2] != 'Not Available']\n",
    "wind_data"
   ]
  },
  {
   "cell_type": "markdown",
   "id": "4dd44976",
   "metadata": {},
   "source": [
    "Note that the above code performed indexing using a mask array. For compactness, we didn't explicitly define the mask array as a separate object.\n",
    "\n",
    "Now, let's retain only the annual data. In other words, **keep only the rows where the value in column 1 ends with '13'**. To do this, we use list comprehension (a pure Python formalism) to generate the mask array to perform the indexing."
   ]
  },
  {
   "cell_type": "code",
   "execution_count": 21,
   "id": "942504e5",
   "metadata": {},
   "outputs": [
    {
     "data": {
      "text/plain": [
       "array([['WYETPUS', '198313', '2.668', '12',\n",
       "        'Electricity Net Generation From Wind, All Sectors',\n",
       "        'Million Kilowatthours'],\n",
       "       ['WYETPUS', '198413', '6.49', '12',\n",
       "        'Electricity Net Generation From Wind, All Sectors',\n",
       "        'Million Kilowatthours'],\n",
       "       ['WYETPUS', '198513', '5.762', '12',\n",
       "        'Electricity Net Generation From Wind, All Sectors',\n",
       "        'Million Kilowatthours'],\n",
       "       ['WYETPUS', '198613', '4.189', '12',\n",
       "        'Electricity Net Generation From Wind, All Sectors',\n",
       "        'Million Kilowatthours'],\n",
       "       ['WYETPUS', '198713', '3.541', '12',\n",
       "        'Electricity Net Generation From Wind, All Sectors',\n",
       "        'Million Kilowatthours']], dtype='<U80')"
      ]
     },
     "execution_count": 21,
     "metadata": {},
     "output_type": "execute_result"
    }
   ],
   "source": [
    "annual_mask_array = np.array(([x[-2:] == '13' for x in wind_data[:,1]]))\n",
    "\n",
    "wind_data = wind_data[annual_mask_array]\n",
    "wind_data[:5]"
   ]
  },
  {
   "cell_type": "markdown",
   "id": "a7dc414b",
   "metadata": {},
   "source": [
    "We have now successfully isolated the annual wind data.\n",
    "\n",
    "It is worth noting that it is straightforward to save a NumPy array to a text file using the `np.savetxt()` function.\n",
    "\n",
    "Just for fun, let's save our results to a comma-delimited csv file. We will request that NumPy converts everything to a string format before exporting."
   ]
  },
  {
   "cell_type": "code",
   "execution_count": 22,
   "id": "8ace61f3",
   "metadata": {},
   "outputs": [],
   "source": [
    "np.savetxt('wind.csv',wind_data, fmt = '%s', delimiter = ',')"
   ]
  },
  {
   "cell_type": "markdown",
   "id": "464929c1",
   "metadata": {},
   "source": [
    "Now let's define a new NumPy array containing just the annual wind energy produced, which is contained in column two of our wind data array. We will convert information to a float data type:"
   ]
  },
  {
   "cell_type": "code",
   "execution_count": 23,
   "id": "45192c04",
   "metadata": {},
   "outputs": [
    {
     "data": {
      "text/plain": [
       "array([2.66800000e+00, 6.49000000e+00, 5.76200000e+00, 4.18900000e+00,\n",
       "       3.54100000e+00, 8.71000000e-01, 2.11204300e+03, 2.78860000e+03,\n",
       "       2.95095100e+03, 2.88752300e+03, 3.00582700e+03, 3.44710900e+03,\n",
       "       3.16425300e+03, 3.23406900e+03, 3.28803500e+03, 3.02569600e+03,\n",
       "       4.48799800e+03, 5.59326100e+03, 6.73733100e+03, 1.03542800e+04,\n",
       "       1.11874660e+04, 1.41437410e+04, 1.78105490e+04, 2.65891370e+04,\n",
       "       3.44499270e+04, 5.53631000e+04, 7.38861320e+04, 9.46522460e+04,\n",
       "       1.20176599e+05, 1.40821703e+05, 1.67839745e+05, 1.81655282e+05,\n",
       "       1.90718548e+05, 2.26992562e+05, 2.54302695e+05, 2.72667454e+05,\n",
       "       2.95882484e+05, 3.37509815e+05])"
      ]
     },
     "execution_count": 23,
     "metadata": {},
     "output_type": "execute_result"
    }
   ],
   "source": [
    "energy = wind_data[:,2].astype(float)\n",
    "energy"
   ]
  },
  {
   "cell_type": "markdown",
   "id": "b6ae8966",
   "metadata": {},
   "source": [
    "Success! Now that we finally have the data of interest in an array of floating-point numbers, we can start taking advantage of some NumPy functions that can quickly and easily perform numerical operations on our array.\n",
    "\n",
    "### Mathematical functions\n",
    "\n",
    "NumPy offers many mathematical functions that can be called with the syntax `array.method()`. For instance, if we wanted to compute the sum of all elements in the array, we could use the function `array.sum()`:"
   ]
  },
  {
   "cell_type": "code",
   "execution_count": 24,
   "id": "f1d9d5f6",
   "metadata": {},
   "outputs": [
    {
     "name": "stdout",
     "output_type": "stream",
     "text": [
      "Total wind energy generated in the USA since 1983 is 2573749.682 Gigawatt-hours\n"
     ]
    }
   ],
   "source": [
    "print(f'Total wind energy generated in the USA since 1983 is {energy.sum()} Gigawatt-hours')"
   ]
  },
  {
   "cell_type": "markdown",
   "id": "a36e689a",
   "metadata": {},
   "source": [
    "Easy.\n",
    "\n",
    "NumPy functions are also available to calculate things like the mean and standard deviation:"
   ]
  },
  {
   "cell_type": "code",
   "execution_count": 25,
   "id": "b92e1461",
   "metadata": {},
   "outputs": [
    {
     "name": "stdout",
     "output_type": "stream",
     "text": [
      "The average annual energy generated from wind is 67730.25478947368 Gigawatt-hours, with a standard deviation of 145.65%\n"
     ]
    }
   ],
   "source": [
    "print(f'The average annual energy generated from wind is {energy.mean()} Gigawatt-hours, '\n",
    "      f'with a standard deviation of {100 * energy.std() / energy.mean():.2f}%')"
   ]
  },
  {
   "cell_type": "markdown",
   "id": "b0eb925d",
   "metadata": {},
   "source": [
    "We can quickly answer many questions using these functions. Here are a couple more.\n",
    "\n",
    "What was the maximum annual energy generated?"
   ]
  },
  {
   "cell_type": "code",
   "execution_count": 26,
   "id": "795ceeb0",
   "metadata": {},
   "outputs": [
    {
     "name": "stdout",
     "output_type": "stream",
     "text": [
      "The highest recorded annual energy generated by wind power is 337509.815 Gigawatt-hours\n"
     ]
    }
   ],
   "source": [
    "print(f'The highest recorded annual energy generated by wind power is {energy.max()} Gigawatt-hours')"
   ]
  },
  {
   "cell_type": "markdown",
   "id": "eb8f5964",
   "metadata": {},
   "source": [
    "And in what year did that occur?"
   ]
  },
  {
   "cell_type": "code",
   "execution_count": 27,
   "id": "c6bfcdd0",
   "metadata": {},
   "outputs": [
    {
     "name": "stdout",
     "output_type": "stream",
     "text": [
      "The highest energy generation occured in the year 2020\n"
     ]
    }
   ],
   "source": [
    "index = energy.argmax() #this method returns the index of the maximum value in the array\n",
    "print(f'The highest energy generation occured in the year {wind_data[index,1][:-2]}')"
   ]
  },
  {
   "cell_type": "markdown",
   "id": "65174439",
   "metadata": {},
   "source": [
    "### Fitting\n",
    "\n",
    "Another important NumPy's capability is data fitting.\n",
    "\n",
    "Let's say we wanted to predict the wind energy that will be generated the year after the period spanned by the dataset. A straightforward approach would be to fit a straight line to recent data and then extrapolate it out to the following year.\n",
    "\n",
    "Although SciPy has some powerful fitting tools, in particular `scipy.optimize.curve_fit()`, it turns out that we don't need to move outside of NumPy to perform this fit.\n",
    "\n",
    "Within NumPy, our options include `np.linalg.lstsq()` and NumPy's polynomial package. Here, we'll use the latter."
   ]
  },
  {
   "cell_type": "code",
   "execution_count": 28,
   "id": "1ab72dc3",
   "metadata": {},
   "outputs": [
    {
     "data": {
      "image/png": "[encoded data removed]",
      "text/plain": [
       "<Figure size 720x432 with 1 Axes>"
      ]
     },
     "metadata": {
      "needs_background": "light"
     },
     "output_type": "display_data"
    }
   ],
   "source": [
    "import numpy.polynomial.polynomial as poly\n",
    "\n",
    "x = np.array([int(j[:4]) for j in wind_data[:,1]]) # Taking the first four digits of each entry in column 1 gives us the year\n",
    "y = energy\n",
    "\n",
    "poly_coeff= poly.polyfit(x[-10:], y[-10:],deg=1) # Get coefficients for a first-degree polynomial (straight line) fit for the most recent 10 years of data\n",
    "fit = poly.polyval(x[-10:], poly_coeff) # Evaluate the fitted polynomial using the polynomial coefficients\n",
    "\n",
    "fig, ax = plt.subplots() # Define a figure and axis on which to plot our data\n",
    "ax.plot(x,y, 'ro', label = 'Data') # Plot the data\n",
    "ax.plot(x[-10:], fit, 'b-', label='Linear fit to last 10 years') # Plot the fit\n",
    "\n",
    "# Extrapolate\n",
    "new_point = x[-1] + 1 # 1 year after the final datapoint\n",
    "fit_new_point = poly.polyval(new_point, poly_coeff)\n",
    "ax.plot(new_point, fit_new_point, 'gs', label=f'Predicted value in {str(new_point)}') # Plot the fit\n",
    "\n",
    "# Label the axes\n",
    "ax.set_xlabel('Year')\n",
    "ax.set_ylabel('Net electricity generation \\n from wind (Gwh)')\n",
    "\n",
    "# Add a legend\n",
    "plt.legend()\n",
    "\n",
    "plt.show()\n",
    "\n",
    "plt.close()"
   ]
  },
  {
   "cell_type": "markdown",
   "id": "e280f239",
   "metadata": {},
   "source": [
    "Notice that the matplotlib plotting commands accepted the NumPy arrays as inputs without a problem. You will find this compatibility with NumPy for quite a few other libraries in Python as well. The degree of compatibility reflects NumPy's core role in Python's overall data science and scientific computing capability.\n",
    "\n",
    "### One last plot...\n",
    "\n",
    "Our plot above shows that the amount of wind-generated electricity has increased rapidly in the USA in the last ten years. But is this simply a consequence of the total electricity generation increasing? Or is the national grid fundamentally shifting toward wind energy? NumPy can help us answer this.\n",
    "\n",
    "To make things more compact, we'll define a function to index certain rows from the primary dataset based on the earlier approach."
   ]
  },
  {
   "cell_type": "code",
   "execution_count": 29,
   "id": "9a1c3e30",
   "metadata": {},
   "outputs": [],
   "source": [
    "def index_energy_data(data, startyear, energy_label):\n",
    "    \"\"\"returns a NumPy array containing only rows with the specified energy_label in column 4, \n",
    "    that also contain energy data, and that also contain annual totals after the specified start year \"\"\"\n",
    "    \n",
    "    output = data[((data[:,4] == energy_label))]\n",
    "    output = output[((output[:,2] != 'Not Available'))]\n",
    "    output = output[np.array(([x[-2:] == '13' and int(x[:4]) >= startyear for x in output[:,1]]))]\n",
    "    \n",
    "    energy = output[:,2].astype(float)\n",
    "    dates = np.array([int(j[:4]) for j in output[:,1]])  # Taking the first four digits of each entry in column 1 gives us the year\n",
    "    \n",
    "    return energy, dates"
   ]
  },
  {
   "cell_type": "markdown",
   "id": "664205a3",
   "metadata": {},
   "source": [
    "Now we'll apply this function to generate three arrays. Solar data was recorded from 1984 onwards, so we'll restrict all arrays to this timeframe:"
   ]
  },
  {
   "cell_type": "code",
   "execution_count": 30,
   "id": "dfea265b",
   "metadata": {},
   "outputs": [],
   "source": [
    "energy_wind, dates = index_energy_data(data, 1984, energy_label = 'Electricity Net Generation From Wind, All Sectors')\n",
    "energy_solar, dates = index_energy_data(data, 1984, energy_label = 'Electricity Net Generation From Solar, All Sectors')\n",
    "energy_total, dates = index_energy_data(data, 1984, energy_label = 'Electricity Net Generation Total (including from sources not shown), All Sectors')"
   ]
  },
  {
   "cell_type": "markdown",
   "id": "79f07f32",
   "metadata": {},
   "source": [
    "Let's compute the contribution of wind, solar, and their combined contribution compared to the total energy generation in the USA:"
   ]
  },
  {
   "cell_type": "code",
   "execution_count": 31,
   "id": "a9eb8209",
   "metadata": {},
   "outputs": [],
   "source": [
    "wind_frac = 100 * energy_wind / energy_total\n",
    "solar_frac = 100 * energy_solar / energy_total\n",
    "combined_frac = 100 * (energy_solar + energy_wind) / energy_total"
   ]
  },
  {
   "cell_type": "markdown",
   "id": "edffe5de",
   "metadata": {},
   "source": [
    "Now we have our data. Did you notice the use of vectorization and broadcasting above? Let's proceed to plotting the results:"
   ]
  },
  {
   "cell_type": "code",
   "execution_count": 32,
   "id": "2ca2e8c1",
   "metadata": {},
   "outputs": [
    {
     "data": {
      "image/png": "[encoded data removed]",
      "text/plain": [
       "<Figure size 720x432 with 1 Axes>"
      ]
     },
     "metadata": {
      "needs_background": "light"
     },
     "output_type": "display_data"
    }
   ],
   "source": [
    "# Prepare the plot\n",
    "fig, ax = plt.subplots() # Define a figure and axis on which to plot our data\n",
    "ax.plot(dates, wind_frac, 'ro-', label = 'Wind')\n",
    "ax.plot(dates, solar_frac, 'bo-', label = 'Solar')\n",
    "ax.plot(dates, combined_frac, 'ko-', label = 'Wind + Solar')\n",
    "\n",
    "#Label the axes\n",
    "ax.set_xlabel('Year')\n",
    "ax.set_ylabel('Contribution to total USA \\n electricity generation (%)')\n",
    "\n",
    "#add a legend\n",
    "plt.legend()\n",
    "\n",
    "plt.show()\n",
    "\n",
    "plt.close()"
   ]
  },
  {
   "cell_type": "markdown",
   "id": "a84dfee2",
   "metadata": {},
   "source": [
    "As this plot shows, the nature of the national grid is changing: there is a rapid change in the mix of electricity sources occurring.\n",
    "\n",
    "To answer further questions, like what is driving this change, we would need a lot more data on the situation's social and economic factors. Rest assured, as soon as we get that data, NumPy would be up to the task of performing the required data manipulations!"
   ]
  },
  {
   "cell_type": "code",
   "execution_count": null,
   "id": "7439655a",
   "metadata": {},
   "outputs": [],
   "source": []
  }
 ],
 "metadata": {
  "kernelspec": {
   "display_name": "Python 3 (ipykernel)",
   "language": "python",
   "name": "python3"
  },
  "language_info": {
   "codemirror_mode": {
    "name": "ipython",
    "version": 3
   },
   "file_extension": ".py",
   "mimetype": "text/x-python",
   "name": "python",
   "nbconvert_exporter": "python",
   "pygments_lexer": "ipython3",
   "version": "3.8.5"
  }
 },
 "nbformat": 4,
 "nbformat_minor": 5
}
