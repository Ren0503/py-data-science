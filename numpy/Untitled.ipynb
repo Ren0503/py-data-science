{
 "cells": [
  {
   "cell_type": "markdown",
   "id": "0b26b8ae",
   "metadata": {},
   "source": [
    "# NumPy\n",
    "\n",
    "## What is NumPy?\n",
    "\n",
    "Numpy is an open-source library for working efficiently with arrays. Developed in 2005 by Travis Oliphant, the name stands for Numerical Python. As a critical data science library in Python, many other libraries depend on it.\n",
    "\n",
    "## Why is NumPy so popular?\n",
    "\n",
    "NumPy is extremely popular because it dramatically improves the ease and performance of working with multidimensional arrays.\n",
    "\n",
    "Some of Numpy's advantages:\n",
    "\n",
    "1. Mathematical operations on NumPy’s ndarray objects are up to 50x faster than iterating over native Python lists using loops. The efficiency gains are primarily due to NumPy storing array elements in an ordered single location within memory, eliminating redundancies by having all elements be the same type and making full use of modern CPUs. The efficiency advantages become particularly apparent when operating on arrays with thousands or millions of elements, which are pretty standard within data science.\n",
    "2. It offers an Indexing syntax for easily accessing portions of data within an array.\n",
    "3. It contains built-in functions that improve quality of life when working with arrays and math, such as functions for linear algebra, array transformations, and matrix math.\n",
    "4. It requires fewer lines of code for most mathematical operations than native Python lists.\n",
    "\n",
    "### Best place to get more info\n",
    "\n",
    "The online documentation (https://numpy.org/doc/) is a great place to look for further information on topics introduced in this article. The documentation goes into more detail than this introduction and is continually updated with evolving best practices.\n",
    "\n",
    "## When should you start using NumPy?\n",
    "\n",
    "NumPy would be a good candidate for the first library to explore after gaining basic comfort with the Python environment. After NumPy, the next logical choices for growing your data science and scientific computing capabilities might be SciPy and pandas. In short, learn Python, then NumPy, then SciPy, or pandas.\n",
    "\n",
    "## What's the relationship between NumPy, SciPy, Scikit-learn, and Pandas?\n",
    "\n",
    "- **NumPy** provides a foundation on which other data science packages are built, including SciPy, Scikit-learn, and Pandas.\n",
    "- **SciPy** provides a menu of libraries for scientific computations. It extends NumPy by including integration, interpolation, signal processing, more linear algebra functions, descriptive and inferential statistics, numerical optimizations, and more.\n",
    "- **Scikit-learn** extends NumPy and SciPy with advanced machine-learning algorithms.\n",
    "- **Pandas** extends NumPy by providing functions for exploratory data analysis, statistics, and data visualization. It can be thought of as Python's equivalent to Microsoft Excel spreadsheets for working with and exploring tabular data (tutorial).\n",
    "\n",
    "## An Alternative to MATLAB?\n",
    "\n",
    "Many readers will likely be familiar with the commercial scientific computing software MATLAB. When used together with other Python libraries like Matplotlib, NumPy can be considered as a fully-fledged alternative to MATLAB's core functionality.\n",
    "\n",
    "Python is quite an attractive alternative to MATLAB for the following reasons:\n",
    "\n",
    "- Python is open-source, which means that you have the option of inspecting the source code yourself.\n",
    "- Access the vast and ever-growing possibilities open to Python users.\n",
    "- Unlike MATLAB, Python and Numpy are free. No further explanation is needed!\n",
    "\n",
    "## Installation\n",
    "\n",
    "To check if you already have NumPy installed in your Python installation (it most likely is), run the following command:"
   ]
  },
  {
   "cell_type": "code",
   "execution_count": 1,
   "id": "166d12aa",
   "metadata": {},
   "outputs": [],
   "source": [
    "import numpy as np"
   ]
  },
  {
   "cell_type": "markdown",
   "id": "d025e5bf",
   "metadata": {},
   "source": [
    "If no error message is returned, that's a good sign NumPy is already available. If you get an error message like\n",
    "\n",
    "ModuleNotFoundError: No module named 'numpy'\n",
    "\n",
    "This probably means that NumPy needs to be installed first. If you use the pip Python package manager, the required command is 'pip install numpy'. If you need more detailed installation instructions, refer to https://numpy.org/."
   ]
  },
  {
   "cell_type": "markdown",
   "id": "f1a9e2ff",
   "metadata": {},
   "source": [
    "## List of useful NumPy functions\n",
    "\n",
    "NumPy has numerous useful functions. You can see the full list of functions in the NumPy docs. As an overview, here are some of the most popular and useful ones to give you a sense of what NumPy can do. We will cover many of them in this tutorial.\n",
    "\n",
    "- **Array Creation**: arange, array, copy, empty, empty_like, eye, fromfile, fromfunction, identity, linspace, logspace, mgrid, ogrid, ones, ones_like, r_, zeros, zeros_like\n",
    "- **Conversions**: ndarray.astype, atleast_1d, atleast_2d, atleast_3d, mat\n",
    "- **Manipulations**: array_split, column_stack, concatenate, diagonal, dsplit, dstack, hsplit, hstack, ndarray.item, newaxis, ravel, repeat, reshape, resize, squeeze, swapaxes, take, transpose, vsplit, vstack\n",
    "- **Questions**: all, any, nonzero, where\n",
    "- **Ordering**: argmax, argmin, argsort, max, min, ptp, searchsorted, sort\n",
    "- **Operations**: choose, compress, cumprod, cumsum, inner, ndarray.fill, imag, prod, put, putmask, real, sum\n",
    "- **Basic Statistics**: cov, mean, std, var\n",
    "- **Basic Linear Algebra**: cross, dot, outer, linalg.svd, vdot\n",
    "\n",
    "# Section 1: The basics\n",
    "\n",
    "## NumPy arrays\n",
    "\n",
    "The NumPy array - an n-dimensional data structure - is the central object of the NumPy package.\n",
    "\n",
    "A one-dimensional NumPy array can be thought of as a vector, a two-dimensional array as a matrix (i.e., a set of vectors), and a three-dimensional array as a tensor (i.e., a set of matrices)."
   ]
  },
  {
   "cell_type": "markdown",
   "id": "5b617f80",
   "metadata": {},
   "source": [
    "![image](https://storage.googleapis.com/lds-media/images/numpy-vector-matrix-3d-matrix.width-1200.jpg)\n",
    "\n",
    "Need more than three dimensions? It's entirely possible to have arrays with many dimensions, including so many dimensions that it's no longer humanly possible to conceptualize them.\n",
    "\n",
    "### Array data types\n",
    "\n",
    "An array can consist of integers, floating-point numbers, or strings. Within an array, the data type must be consistent (e.g., all integers or all floats).\n",
    "\n",
    "Need an array with mixed data types? Consider using Numpy's record array format or pandas dataframes instead (see the Pandas tutorial).\n",
    "\n",
    "In this article, we'll restrict our focus to conventional NumPy arrays consisting of a single data type.\n",
    "\n",
    "### Defining arrays\n",
    "\n",
    "We can define NumPy arrays in a number of ways. We'll detail a few of the most common approaches below.\n",
    "\n",
    "### Using np.array()\n",
    "\n",
    "To define an array manually, we can use the `np.array()` function. Below, we pass a list of two elements, each of which is a list containing two values. The result is a 2x2 matrix:"
   ]
  },
  {
   "cell_type": "code",
   "execution_count": 2,
   "id": "dd085629",
   "metadata": {},
   "outputs": [
    {
     "data": {
      "text/plain": [
       "array([[1, 2],\n",
       "       [3, 4]])"
      ]
     },
     "execution_count": 2,
     "metadata": {},
     "output_type": "execute_result"
    }
   ],
   "source": [
    "np.array([[1,2],[3,4]])"
   ]
  },
  {
   "cell_type": "markdown",
   "id": "095a4cb0",
   "metadata": {},
   "source": [
    "It's as simple as that! Once we have our data in a NumPy array, a vast suite of computing possibilities becomes available. Much of this article is concerned with exploring these possibilities.\n",
    "\n",
    "NumPy has numerous functions for generating commonly-used arrays without having to enter the elements manually. A few of those are shown below:\n",
    "\n",
    "### Defining arrays: np.arange()\n",
    "\n",
    "The function np.arange() is great for creating vectors easily. Here, we create a vector with values spanning 1 up to (but not including) 5:"
   ]
  },
  {
   "cell_type": "code",
   "execution_count": 3,
   "id": "eb32346c",
   "metadata": {},
   "outputs": [
    {
     "data": {
      "text/plain": [
       "array([1, 2, 3, 4])"
      ]
     },
     "execution_count": 3,
     "metadata": {},
     "output_type": "execute_result"
    }
   ],
   "source": [
    "np.arange(1,5)"
   ]
  },
  {
   "cell_type": "markdown",
   "id": "36a43ce0",
   "metadata": {},
   "source": [
    "### Defining arrays: np.zeros, np.ones, np.full\n",
    "\n",
    "In many programming tasks, it can be useful to initialize a variable and then write a value to it later in the code. If that variable happens to be a NumPy array, a common approach would be to create it as an array with zeros in every element. We can do this using `np.zeros()`. Here, we create an array of zeros with three rows and one column."
   ]
  },
  {
   "cell_type": "code",
   "execution_count": 4,
   "id": "b9638dea",
   "metadata": {},
   "outputs": [
    {
     "data": {
      "text/plain": [
       "array([[0.],\n",
       "       [0.],\n",
       "       [0.]])"
      ]
     },
     "execution_count": 4,
     "metadata": {},
     "output_type": "execute_result"
    }
   ],
   "source": [
    "np.zeros((3,1))"
   ]
  },
  {
   "cell_type": "markdown",
   "id": "7abc4024",
   "metadata": {},
   "source": [
    "You can also initialize an array with ones instead of zeros:"
   ]
  },
  {
   "cell_type": "code",
   "execution_count": 5,
   "id": "b2c2d057",
   "metadata": {},
   "outputs": [
    {
     "data": {
      "text/plain": [
       "array([[1.],\n",
       "       [1.],\n",
       "       [1.]])"
      ]
     },
     "execution_count": 5,
     "metadata": {},
     "output_type": "execute_result"
    }
   ],
   "source": [
    "np.ones((3, 1))"
   ]
  },
  {
   "cell_type": "markdown",
   "id": "85a5c64f",
   "metadata": {},
   "source": [
    "`np.full()` creates an array repeating a fixed value (defaults to zero). Here we create a 2x3 array with the number 7 in each element:"
   ]
  },
  {
   "cell_type": "code",
   "execution_count": 6,
   "id": "477773e3",
   "metadata": {},
   "outputs": [
    {
     "data": {
      "text/plain": [
       "array([[7, 7, 7],\n",
       "       [7, 7, 7]])"
      ]
     },
     "execution_count": 6,
     "metadata": {},
     "output_type": "execute_result"
    }
   ],
   "source": [
    "np.full((2,3),7)"
   ]
  },
  {
   "cell_type": "markdown",
   "id": "3bcc76a7",
   "metadata": {},
   "source": [
    "Making arrays in this way is also helpful for appending columns or rows to an existing arrays, which will be covered a little later.\n",
    "\n",
    "### Array shape\n",
    "\n",
    "All arrays have a shape accessible using `.shape`.\n",
    "\n",
    "For example, let's get the shape of a vector, matrix, and tensor."
   ]
  },
  {
   "cell_type": "code",
   "execution_count": 7,
   "id": "e4520ee7",
   "metadata": {},
   "outputs": [
    {
     "name": "stdout",
     "output_type": "stream",
     "text": [
      "Vector shape: (5,)\n",
      "Matrix shape: (3, 2)\n",
      "Tensor shape: (2, 3, 3)\n"
     ]
    }
   ],
   "source": [
    "vector = np.arange(5)\n",
    "print(\"Vector shape:\", vector.shape)\n",
    "\n",
    "matrix = np.ones([3, 2])\n",
    "print(\"Matrix shape:\", matrix.shape)\n",
    "\n",
    "tensor = np.zeros([2, 3, 3])\n",
    "print(\"Tensor shape:\", tensor.shape)"
   ]
  },
  {
   "cell_type": "markdown",
   "id": "1a5dba62",
   "metadata": {},
   "source": [
    "The shape of the vector is one-dimensional. The first number in its shape is the number of elements (or rows). For the matrix, `.shape` tells us we have three rows and two columns. The tensor is slightly different. The first number is how many matrices/slices we have. The second gives the number of rows. The third provides the number of columns.\n",
    "\n",
    "If you're familiar with `pandas`, you might have noticed that the syntax for the number of rows and columns is strikingly similar to the equivalent in pandas. As we continue to explore NumPy arrays, you may notice many more similarities.\n",
    "\n",
    "If we print the tensor, we can see it's representation as a list of 3x3 matrices:"
   ]
  },
  {
   "cell_type": "code",
   "execution_count": 8,
   "id": "b4ee170e",
   "metadata": {},
   "outputs": [
    {
     "data": {
      "text/plain": [
       "array([[[0., 0., 0.],\n",
       "        [0., 0., 0.],\n",
       "        [0., 0., 0.]],\n",
       "\n",
       "       [[0., 0., 0.],\n",
       "        [0., 0., 0.],\n",
       "        [0., 0., 0.]]])"
      ]
     },
     "execution_count": 8,
     "metadata": {},
     "output_type": "execute_result"
    }
   ],
   "source": [
    "tensor"
   ]
  },
  {
   "cell_type": "markdown",
   "id": "f5f149db",
   "metadata": {},
   "source": [
    "### Reshaping arrays\n",
    "\n",
    "We can reshape an array into any compatible dimensions using `.reshape`.\n",
    "\n",
    "For example, say we want a 3x3 matrix where each element is incremented from 1 to 9. Easy:"
   ]
  },
  {
   "cell_type": "code",
   "execution_count": 9,
   "id": "74a283ad",
   "metadata": {},
   "outputs": [
    {
     "name": "stdout",
     "output_type": "stream",
     "text": [
      "[1 2 3 4 5 6 7 8 9] \n",
      "\n",
      "[[1 2 3]\n",
      " [4 5 6]\n",
      " [7 8 9]] \n",
      "\n",
      "[1 2 3 4 5 6 7 8 9]\n"
     ]
    }
   ],
   "source": [
    "arr = np.arange(1, 10)\n",
    "print(arr, '\\n')\n",
    "\n",
    "# Reshape to 3x3 matrix\n",
    "arr = arr.reshape(3, 3)\n",
    "print(arr, '\\n')\n",
    "\n",
    "# Reshape back to the original size\n",
    "arr = arr.reshape(9)\n",
    "print(arr)"
   ]
  },
  {
   "cell_type": "markdown",
   "id": "56ff0a77",
   "metadata": {},
   "source": [
    "Numpy can try to infer one of the dimensions if you use -1. You will still need to have precisely the correct number of digits for the inference to work."
   ]
  },
  {
   "cell_type": "code",
   "execution_count": 10,
   "id": "4c834f74",
   "metadata": {},
   "outputs": [
    {
     "name": "stdout",
     "output_type": "stream",
     "text": [
      "[[1 2 3]\n",
      " [4 5 6]\n",
      " [7 8 9]]\n"
     ]
    }
   ],
   "source": [
    "arr = np.arange(1, 10).reshape(3, -1)\n",
    "print(arr)"
   ]
  },
  {
   "cell_type": "markdown",
   "id": "821dee83",
   "metadata": {},
   "source": [
    "### Reading data from a file into an array\n",
    "\n",
    "Usually, data sets are too large to define manually. Instead, the most common use case is to import data from a data file into a NumPy array.\n",
    "\n",
    "As an example, let's take some publicly-available data from the U.S. Energy Information Administration. The dataset we'll explore contains information on electricity generation in the USA from a range of sources. You can download the file, MER_T07_02A.csv, here: https://www.eia.gov/totalenergy/data/browser/csv.php?tbl=T07.02A.\n",
    "\n",
    "Because the data file is a CSV file, we'll use the `csv` module to import the data. It's worth noting that NumPy also has functions to read other types of data files directly into NumPy arrays, such as `np.genfromtxt()` for text files.\n",
    "\n",
    "Here we're just reading the CSV file row-by-row, appending to a list, and then converting to a NumPy array:"
   ]
  },
  {
   "cell_type": "code",
   "execution_count": 11,
   "id": "c65b9abe",
   "metadata": {},
   "outputs": [],
   "source": [
    "import csv\n",
    "\n",
    "data = []\n",
    "\n",
    "with open('MER_T07_02A.csv', 'r') as csvfile:\n",
    "    file_reader = csv.reader(csvfile, delimiter=',')\n",
    "    for row in file_reader:\n",
    "        data.append(row)\n",
    "        \n",
    "data = np.array(data) #convert the list of lists to a NumPy array"
   ]
  },
  {
   "cell_type": "markdown",
   "id": "3d31a95a",
   "metadata": {},
   "source": [
    "We now have our data stored in a NumPy array that we've named data. For much of the remainder of this article, we'll be exploring how NumPy's functionality can be used to manipulate and gain insights into this data.\n",
    "\n",
    "First, we'll explore some attributes of the array. One thing that we may want to know about an array is its dimensions:"
   ]
  },
  {
   "cell_type": "code",
   "execution_count": 12,
   "id": "b36826be",
   "metadata": {},
   "outputs": [
    {
     "data": {
      "text/plain": [
       "(8529, 6)"
      ]
     },
     "execution_count": 12,
     "metadata": {},
     "output_type": "execute_result"
    }
   ],
   "source": [
    "data.shape"
   ]
  },
  {
   "cell_type": "markdown",
   "id": "5d1d8fa7",
   "metadata": {},
   "source": [
    "For this two-dimensional array, we have 8230 rows and 6 columns of data.\n",
    "\n",
    "Another property of a NumPy array that we may wish to know is its data type. This information is stored in the dtype attribute. Calling dtype reveals that our array is made up of strings:"
   ]
  },
  {
   "cell_type": "code",
   "execution_count": 13,
   "id": "bfcd9bed",
   "metadata": {},
   "outputs": [
    {
     "data": {
      "text/plain": [
       "numpy.str_"
      ]
     },
     "execution_count": 13,
     "metadata": {},
     "output_type": "execute_result"
    }
   ],
   "source": [
    "data.dtype.type"
   ]
  },
  {
   "cell_type": "markdown",
   "id": "25dc356d",
   "metadata": {},
   "source": [
    "## Saving\n",
    "\n",
    "When we are ready to save our data, we can use the `save` function."
   ]
  },
  {
   "cell_type": "code",
   "execution_count": 14,
   "id": "353963d0",
   "metadata": {},
   "outputs": [],
   "source": [
    "np.save(open('data.npy', 'wb'), data)      # Saves data to a binary file with the .npy extension"
   ]
  },
  {
   "cell_type": "markdown",
   "id": "3eaff164",
   "metadata": {},
   "source": [
    "## Indexing\n",
    "\n",
    "At some point, it will become necessary to index (select) subsets of a NumPy array. For instance, you might want to plot one column of data or perform a manipulation of that column. NumPy uses the same indexing notation as MATLAB.\n",
    "\n",
    "### Basics of indexing notation\n",
    "\n",
    "- **Commas** separate axes of an array.\n",
    "- **Colons** mean \"through\". For example, x[0:4] means the first 5 rows (rows 0 through 4) of x.\n",
    "- **Negative numbers** mean \"from the end of the array.\" For example, x[-1] means the last row of x.\n",
    "- **Blanks** before or after colons means \"the rest of\". For example, x[3:] means the rest of the rows in x after row 3. Similarly, x[:3] means all the rows up to row 3. x[:] means all rows of x.\n",
    "- When there are **fewer indices than axes**, the missing indices are considered complete slices. For example, in a 3-axis array, x[0,0] means all data in the 3rd axis of the 1st row and 1st column.\n",
    "- **Dots** \"...\" mean as many colons as needed to produce a complete indexing tuple. For example, x[1,2,...] is the same as x[1,2,:,:,:].\n",
    "\n",
    "In the following code, we'll explore some useful examples of selecting subsets from an array."
   ]
  },
  {
   "cell_type": "markdown",
   "id": "2033ad5a",
   "metadata": {},
   "source": [
    "### Example\n",
    "\n",
    "![example](https://storage.googleapis.com/lds-media/images/numpy-indexing-arrays.width-1200.jpg)\n",
    "\n",
    "#### Indexing example 1: Colons and commas\n",
    "\n",
    "Let's say we are interested in the first ten rows in the 4th column. We can use the following syntax to index this array section: `__array[start_row:end_row, col]__`"
   ]
  },
  {
   "cell_type": "code",
   "execution_count": 15,
   "id": "a8ca22ea",
   "metadata": {},
   "outputs": [
    {
     "data": {
      "text/plain": [
       "array(['Description', 'Electricity Net Generation From Coal, All Sectors',\n",
       "       'Electricity Net Generation From Coal, All Sectors',\n",
       "       'Electricity Net Generation From Coal, All Sectors',\n",
       "       'Electricity Net Generation From Coal, All Sectors',\n",
       "       'Electricity Net Generation From Coal, All Sectors',\n",
       "       'Electricity Net Generation From Coal, All Sectors',\n",
       "       'Electricity Net Generation From Coal, All Sectors',\n",
       "       'Electricity Net Generation From Coal, All Sectors',\n",
       "       'Electricity Net Generation From Coal, All Sectors'], dtype='<U80')"
      ]
     },
     "execution_count": 15,
     "metadata": {},
     "output_type": "execute_result"
    }
   ],
   "source": [
    "data[0:10,4]"
   ]
  },
  {
   "cell_type": "markdown",
   "id": "40086ad3",
   "metadata": {},
   "source": [
    "The first row is the header for the column. Column 4 contains a description of energy sectors.\n",
    "\n",
    "#### Indexing example 2: Colons as *all* rows or columns\n",
    "\n",
    "A colon can also denote all rows, or all columns. Here, we index all rows of column 4."
   ]
  },
  {
   "cell_type": "code",
   "execution_count": 16,
   "id": "a34ebe35",
   "metadata": {},
   "outputs": [
    {
     "data": {
      "text/plain": [
       "array(['Description', 'Electricity Net Generation From Coal, All Sectors',\n",
       "       'Electricity Net Generation From Coal, All Sectors', ...,\n",
       "       'Electricity Net Generation Total (including from sources not shown), All Sectors',\n",
       "       'Electricity Net Generation Total (including from sources not shown), All Sectors',\n",
       "       'Electricity Net Generation Total (including from sources not shown), All Sectors'],\n",
       "      dtype='<U80')"
      ]
     },
     "execution_count": 16,
     "metadata": {},
     "output_type": "execute_result"
    }
   ],
   "source": [
    "data[:,4]"
   ]
  },
  {
   "cell_type": "markdown",
   "id": "3bf7755d",
   "metadata": {},
   "source": [
    "#### Indexing example 3: Subset of columns\n",
    "\n",
    "We can use the same format for any dimension of an array. The general syntax is: array[start_row:end_row, start_col:end_col]. The following indexes all rows and the second column up to (but not including) the 4th column:"
   ]
  },
  {
   "cell_type": "code",
   "execution_count": 17,
   "id": "33b2ed46",
   "metadata": {},
   "outputs": [
    {
     "data": {
      "text/plain": [
       "array([['Value', 'Column_Order'],\n",
       "       ['135451.32', '1'],\n",
       "       ['154519.994', '1'],\n",
       "       ...,\n",
       "       ['374205.509', '13'],\n",
       "       ['404614.884', '13'],\n",
       "       ['414224.475', '13']], dtype='<U80')"
      ]
     },
     "execution_count": 17,
     "metadata": {},
     "output_type": "execute_result"
    }
   ],
   "source": [
    "data[:,2:4]"
   ]
  },
  {
   "cell_type": "markdown",
   "id": "09f031ff",
   "metadata": {},
   "source": [
    "#### Indexing example 4: Explicitly specifying column numbers\n",
    "\n",
    "What if the columns we need are not next to each other? Instead of indexing a range of columns, it can be useful to specify them explicitly. To explicitly specify particular columns, we just include them in a list. Let's index the five rows after the header, selecting only columns 2 and 3. This time, we'll write the output to a new array named subset that we can re-use in the following example."
   ]
  },
  {
   "cell_type": "code",
   "execution_count": 18,
   "id": "05502fbe",
   "metadata": {},
   "outputs": [
    {
     "data": {
      "text/plain": [
       "array([['135451.32', '1'],\n",
       "       ['154519.994', '1'],\n",
       "       ['185203.657', '1'],\n",
       "       ['195436.666', '1'],\n",
       "       ['218846.325', '1']], dtype='<U80')"
      ]
     },
     "execution_count": 18,
     "metadata": {},
     "output_type": "execute_result"
    }
   ],
   "source": [
    "subset = data[1:6, [2,3]]\n",
    "subset"
   ]
  },
  {
   "cell_type": "markdown",
   "id": "26d17467",
   "metadata": {},
   "source": [
    "#### Indexing example 5: Mask arrays\n",
    "\n",
    "Another convenient way to index certain sections of a NumPy array is to use a mask array. A mask array, also known as a logical array, contains boolean elements (i.e. True or False). Indexing of a given array element is determined by the value of the mask array's corresponding element.\n",
    "\n",
    "First, we define a NumPy array of True/False values, where the True values are the ones we want to keep. Then we mask the `subset` array from the previous example. The result is retaining only the rows that correspond to elements that are True in the mask array."
   ]
  },
  {
   "cell_type": "code",
   "execution_count": 19,
   "id": "d85fabbb",
   "metadata": {},
   "outputs": [
    {
     "data": {
      "text/plain": [
       "array([['154519.994', '1'],\n",
       "       ['195436.666', '1'],\n",
       "       ['218846.325', '1']], dtype='<U80')"
      ]
     },
     "execution_count": 19,
     "metadata": {},
     "output_type": "execute_result"
    }
   ],
   "source": [
    "mask_array = np.array([False, True, False, True, True])\n",
    "\n",
    "subset[mask_array]"
   ]
  },
  {
   "cell_type": "markdown",
   "id": "8d1be5c4",
   "metadata": {},
   "source": [
    "As you can see, the mask array retained the rows corresponding to True and the excluded the ones corresponding to False. It is worth noting that a similar approach is used for indexing pandas dataframes.\n",
    "\n",
    "Masking is a powerful tool that allows us to index elements based on logical expressions. We'll make good use of in the case study later in the article.\n",
    "\n",
    "#### Concatenating\n",
    "NumPy also provides useful functions for concatenating (i.e., joining) arrays. Let's say we wanted to restrict our attention to the first and the last three rows of our dataset. First, we'll define new sub-arrays as follows:"
   ]
  },
  {
   "cell_type": "code",
   "execution_count": 20,
   "id": "db01dc4a",
   "metadata": {},
   "outputs": [
    {
     "data": {
      "text/plain": [
       "array([['MSN', 'YYYYMM', 'Value', 'Column_Order', 'Description', 'Unit'],\n",
       "       ['CLETPUS', '194913', '135451.32', '1',\n",
       "        'Electricity Net Generation From Coal, All Sectors',\n",
       "        'Million Kilowatthours'],\n",
       "       ['CLETPUS', '195013', '154519.994', '1',\n",
       "        'Electricity Net Generation From Coal, All Sectors',\n",
       "        'Million Kilowatthours']], dtype='<U80')"
      ]
     },
     "execution_count": 20,
     "metadata": {},
     "output_type": "execute_result"
    }
   ],
   "source": [
    "array_start = data[:3,:]\n",
    "array_start"
   ]
  },
  {
   "cell_type": "code",
   "execution_count": 21,
   "id": "fe585f47",
   "metadata": {},
   "outputs": [
    {
     "data": {
      "text/plain": [
       "array([['ELETPUS', '202106', '374205.509', '13',\n",
       "        'Electricity Net Generation Total (including from sources not shown), All Sectors',\n",
       "        'Million Kilowatthours'],\n",
       "       ['ELETPUS', '202107', '404614.884', '13',\n",
       "        'Electricity Net Generation Total (including from sources not shown), All Sectors',\n",
       "        'Million Kilowatthours'],\n",
       "       ['ELETPUS', '202108', '414224.475', '13',\n",
       "        'Electricity Net Generation Total (including from sources not shown), All Sectors',\n",
       "        'Million Kilowatthours']], dtype='<U80')"
      ]
     },
     "execution_count": 21,
     "metadata": {},
     "output_type": "execute_result"
    }
   ],
   "source": [
    "array_end = data[-3:,:]\n",
    "array_end"
   ]
  },
  {
   "cell_type": "markdown",
   "id": "a9479c4a",
   "metadata": {},
   "source": [
    "To concatenate these arrays we can use `np.vstack`, where the v denotes vertical, or row-wise, stacking of the sub-arrays:"
   ]
  },
  {
   "cell_type": "code",
   "execution_count": 22,
   "id": "bf3bf08b",
   "metadata": {},
   "outputs": [
    {
     "data": {
      "text/plain": [
       "array([['MSN', 'YYYYMM', 'Value', 'Column_Order', 'Description', 'Unit'],\n",
       "       ['CLETPUS', '194913', '135451.32', '1',\n",
       "        'Electricity Net Generation From Coal, All Sectors',\n",
       "        'Million Kilowatthours'],\n",
       "       ['CLETPUS', '195013', '154519.994', '1',\n",
       "        'Electricity Net Generation From Coal, All Sectors',\n",
       "        'Million Kilowatthours'],\n",
       "       ['ELETPUS', '202106', '374205.509', '13',\n",
       "        'Electricity Net Generation Total (including from sources not shown), All Sectors',\n",
       "        'Million Kilowatthours'],\n",
       "       ['ELETPUS', '202107', '404614.884', '13',\n",
       "        'Electricity Net Generation Total (including from sources not shown), All Sectors',\n",
       "        'Million Kilowatthours'],\n",
       "       ['ELETPUS', '202108', '414224.475', '13',\n",
       "        'Electricity Net Generation Total (including from sources not shown), All Sectors',\n",
       "        'Million Kilowatthours']], dtype='<U80')"
      ]
     },
     "execution_count": 22,
     "metadata": {},
     "output_type": "execute_result"
    }
   ],
   "source": [
    "np.vstack((array_start, array_end))"
   ]
  },
  {
   "cell_type": "markdown",
   "id": "cb2ac4de",
   "metadata": {},
   "source": [
    "Here we've stacked the first three rows and last three rows on top of each other.\n",
    "\n",
    "The horizontal counterpart of `np.vstack()` is `np.hstack()`, which combines sub-arrays column-wise. For higher dimensional joins, the most common function is `np.concatenate()`. The syntax for this function is similar to the 2D versions, with the additional requirement of specifying the axis along which concatenation should be performed.\n",
    "\n",
    "Calling `np.concatenate((array_start, array_end), axis = 0)` would generate identical output to using `np.vstack()`. Axis=1 would generate identical output to using `np.hstack()`.\n",
    "\n",
    "### Splitting\n",
    "\n",
    "The opposite of concatenating (i.e., joining) arrays is splitting them. To split an array, NumPy provides the following commands:\n",
    "\n",
    "- hsplit: splits along the horizontal axis\n",
    "- vsplit: splits along the vertical axis\n",
    "- dsplit: Splits an array along the 3rd axis (depth)\n",
    "- array_split: lets you specify the axis to use in splitting\n",
    "\n",
    "### Adding/Removing Elements\n",
    "\n",
    "NumPy provides several functions for adding or deleting data from an array:\n",
    "\n",
    "- resize: Returns a new array with the specified shape, with zeros as placeholders in all the new cells.\n",
    "- append: Adds values to the end of an array\n",
    "- insert: Adds values in the middle of an array\n",
    "- delete: Returns a new array with given data removed\n",
    "- unique: Finds only the unique values of an array\n",
    "\n",
    "### Sorting\n",
    "There are several useful functions for sorting array elements. Some of the available sorting algorithms include `quicksort`, `heapsort`, `mergesort`, and `timesort`.\n",
    "\n",
    "For example, here's how you'd merge sort the columns of an array:"
   ]
  },
  {
   "cell_type": "code",
   "execution_count": 23,
   "id": "5512011b",
   "metadata": {},
   "outputs": [
    {
     "data": {
      "text/plain": [
       "array([[1, 2, 3, 8],\n",
       "       [4, 5, 8, 9]])"
      ]
     },
     "execution_count": 23,
     "metadata": {},
     "output_type": "execute_result"
    }
   ],
   "source": [
    "a = np.array([[3,8,1,2], [9,5,4,8]])\n",
    "np.sort(a, axis=1, kind='mergesort')      # Sort by column"
   ]
  },
  {
   "cell_type": "markdown",
   "id": "54987cb4",
   "metadata": {},
   "source": [
    "### No Copy vs. Shallow Copy vs. Deep Copy\n",
    "\n",
    "A common source of confusion NumPy beginners is knowing when data is and isn't copied into a new object.\n",
    "\n",
    "**No copy**: function calls and assignments:"
   ]
  },
  {
   "cell_type": "code",
   "execution_count": 24,
   "id": "51482d3a",
   "metadata": {},
   "outputs": [
    {
     "name": "stdout",
     "output_type": "stream",
     "text": [
      "99622832\n",
      "99622832\n"
     ]
    }
   ],
   "source": [
    "print(id(a))\n",
    "\n",
    "# Object \"b\" points to object \"a\". No new object is created.\n",
    "b = a       \n",
    "\n",
    "# Python passes objects as references. No copy is made.\n",
    "def f(x):   \n",
    "    print(id(x))\n",
    "    \n",
    "f(b)"
   ]
  },
  {
   "cell_type": "markdown",
   "id": "72758cda",
   "metadata": {},
   "source": [
    "Notice the id of `b` is the same as `a`, even if it's passed into a function.\n",
    "\n",
    "**View/Shallow Copy**: Arrays that share some data. The view method creates an object looking at the same data. Slicing an array returns a view of that array."
   ]
  },
  {
   "cell_type": "code",
   "execution_count": 25,
   "id": "49c62d1a",
   "metadata": {},
   "outputs": [],
   "source": [
    "# View\n",
    "a = b.view()\n",
    "\n",
    "# The shape of b doesn't change\n",
    "a = a.reshape((4, 2))    \n",
    "\n",
    "# Slice\n",
    "# a[:] is a view of \"a\".\n",
    "a[:] = 5"
   ]
  },
  {
   "cell_type": "markdown",
   "id": "4618d2cd",
   "metadata": {},
   "source": [
    "**Deep copy**: Use the `copy` method to make a complete copy of an array and all its data."
   ]
  },
  {
   "cell_type": "code",
   "execution_count": 26,
   "id": "1e352148",
   "metadata": {},
   "outputs": [],
   "source": [
    "c = a.copy()"
   ]
  },
  {
   "cell_type": "markdown",
   "id": "61ac8c66",
   "metadata": {},
   "source": [
    "The `copy()` method creates the new array object `c` that is identical to `a`."
   ]
  },
  {
   "cell_type": "code",
   "execution_count": null,
   "id": "a3c41023",
   "metadata": {},
   "outputs": [],
   "source": []
  }
 ],
 "metadata": {
  "kernelspec": {
   "display_name": "Python 3 (ipykernel)",
   "language": "python",
   "name": "python3"
  },
  "language_info": {
   "codemirror_mode": {
    "name": "ipython",
    "version": 3
   },
   "file_extension": ".py",
   "mimetype": "text/x-python",
   "name": "python",
   "nbconvert_exporter": "python",
   "pygments_lexer": "ipython3",
   "version": "3.8.5"
  }
 },
 "nbformat": 4,
 "nbformat_minor": 5
}
